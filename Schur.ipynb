{
 "cells": [
  {
   "cell_type": "markdown",
   "metadata": {},
   "source": [
    "1. Диагональные элементы матрицы $R$ (обычно она верхнетреугольная) - собственные значения матрицы $A$."
   ]
  },
  {
   "cell_type": "markdown",
   "metadata": {},
   "source": [
    "2. В матрице $U$ находятся собственные векторы матрицы $A$, если матрица $R$ - диагональна. "
   ]
  },
  {
   "cell_type": "markdown",
   "metadata": {},
   "source": [
    "3. $$N = \\sum_n \\sum_{k>n} |R_{nk}|^2 = ||R||^2_F - tr(R^2) = tr(AA^*) - tr(A^2) = tr(A(A^*-A))$$\n",
    "$$R = U^* A U$$\n",
    "$$||R||^2_F = tr (RR^*) = tr(U^* A U U^* A^* U) = tr(U^* AA^* U) = tr (U^{-1} AA^* U) = tr(AA^*)$$\n",
    "$$tr(R^2) = tr(U^* A U U^* A U) = tr(U^* A^2 U) = tr (U^{-1} A^2 U) = tr(A^2)$$\n",
    "Если $A=A^*$, то матрица будет диагональной, и сумма внедиагональных элементов будет равна 0.\n",
    "Сумма показывает, на сколько матрица \"далека\" от эрмитовой."
   ]
  },
  {
   "cell_type": "markdown",
   "metadata": {},
   "source": [
    "4. Достаточное условие сходимости: $\\frac{\\lambda_{k+1}}{\\lambda_k}<1$"
   ]
  },
  {
   "cell_type": "code",
   "execution_count": 15,
   "metadata": {},
   "outputs": [],
   "source": [
    "import numpy as np\n",
    "from scipy.linalg import norm"
   ]
  },
  {
   "cell_type": "code",
   "execution_count": 9,
   "metadata": {},
   "outputs": [],
   "source": [
    "A = np.random.randint(10, size=(3,3))"
   ]
  },
  {
   "cell_type": "code",
   "execution_count": 10,
   "metadata": {},
   "outputs": [
    {
     "data": {
      "text/plain": [
       "array([[4, 0, 7],\n",
       "       [6, 3, 9],\n",
       "       [3, 2, 2]])"
      ]
     },
     "execution_count": 10,
     "metadata": {},
     "output_type": "execute_result"
    }
   ],
   "source": [
    "A"
   ]
  },
  {
   "cell_type": "code",
   "execution_count": 201,
   "metadata": {},
   "outputs": [],
   "source": [
    "B = np.array([[1,3,7],[3,1,2],[7,2,1]])"
   ]
  },
  {
   "cell_type": "code",
   "execution_count": 202,
   "metadata": {},
   "outputs": [
    {
     "data": {
      "text/plain": [
       "array([[1, 3, 7],\n",
       "       [3, 1, 2],\n",
       "       [7, 2, 1]])"
      ]
     },
     "execution_count": 202,
     "metadata": {},
     "output_type": "execute_result"
    }
   ],
   "source": [
    "B"
   ]
  },
  {
   "cell_type": "code",
   "execution_count": 72,
   "metadata": {},
   "outputs": [],
   "source": [
    "def power_iteration(A, Niter=10000):\n",
    "    e0 = np.random.rand(A.shape[1])\n",
    "    e0 = e0 / np.linalg.norm(e0,2)\n",
    "    for i in range(Niter):\n",
    "        ek = A@e0\n",
    "        e0 = ek / np.linalg.norm(ek,2)\n",
    "    rad = (e0.T @ (A @ e0)) / (e0.T @ e0)\n",
    "    return e0, rad"
   ]
  },
  {
   "cell_type": "code",
   "execution_count": 196,
   "metadata": {},
   "outputs": [],
   "source": [
    "def eigen(Mat, Niter=10000):\n",
    "    N = Mat.shape[0]\n",
    "    spec = []\n",
    "    eig_vec = np.zeros(shape=Mat.shape)\n",
    "    for k in range(N):\n",
    "        v, l = power_iteration(Mat)\n",
    "        spec.append(l)\n",
    "        for p in range(v.shape[0]):\n",
    "            eig_vec[p,k] = v[p]\n",
    "        Mat = Mat - l * np.tensordot(v,v, axes=0) / (v @ v)\n",
    "    return spec, eig_vec"
   ]
  },
  {
   "cell_type": "code",
   "execution_count": 204,
   "metadata": {
    "scrolled": true
   },
   "outputs": [
    {
     "data": {
      "text/plain": [
       "([9.479738545337424, -6.08073633257121, -0.3990022127662143],\n",
       " array([[ 0.66464807, -0.72239043, -0.19077476],\n",
       "        [ 0.38602203,  0.11339537,  0.91549357],\n",
       "        [ 0.63971082,  0.6821243 , -0.35422663]]))"
      ]
     },
     "execution_count": 204,
     "metadata": {},
     "output_type": "execute_result"
    }
   ],
   "source": [
    "eigen(B)"
   ]
  },
  {
   "cell_type": "code",
   "execution_count": 205,
   "metadata": {},
   "outputs": [
    {
     "data": {
      "text/plain": [
       "(array([ 9.47973855, -6.08073633, -0.39900221]),\n",
       " array([[-0.66464807, -0.72239043,  0.19077476],\n",
       "        [-0.38602203,  0.11339537, -0.91549357],\n",
       "        [-0.63971082,  0.6821243 ,  0.35422663]]))"
      ]
     },
     "execution_count": 205,
     "metadata": {},
     "output_type": "execute_result"
    }
   ],
   "source": [
    "np.linalg.eig(B)"
   ]
  },
  {
   "cell_type": "code",
   "execution_count": 206,
   "metadata": {},
   "outputs": [
    {
     "data": {
      "text/plain": [
       "(array([[ 9.47973855e+00,  4.55191440e-15, -3.71053513e-16],\n",
       "        [ 0.00000000e+00, -6.08073633e+00, -1.56810780e-16],\n",
       "        [ 0.00000000e+00,  0.00000000e+00, -3.99002213e-01]]),\n",
       " array([[-0.66464807, -0.72239043,  0.19077476],\n",
       "        [-0.38602203,  0.11339537, -0.91549357],\n",
       "        [-0.63971082,  0.6821243 ,  0.35422663]]))"
      ]
     },
     "execution_count": 206,
     "metadata": {},
     "output_type": "execute_result"
    }
   ],
   "source": [
    "scipy.linalg.schur(B)"
   ]
  },
  {
   "cell_type": "code",
   "execution_count": null,
   "metadata": {},
   "outputs": [],
   "source": []
  },
  {
   "cell_type": "code",
   "execution_count": null,
   "metadata": {},
   "outputs": [],
   "source": []
  },
  {
   "cell_type": "code",
   "execution_count": 292,
   "metadata": {},
   "outputs": [
    {
     "data": {
      "text/plain": [
       "(array([1., 2.]),\n",
       " array([[1.e+00, 1.e+00],\n",
       "        [0.e+00, 1.e-07]]))"
      ]
     },
     "execution_count": 292,
     "metadata": {},
     "output_type": "execute_result"
    }
   ],
   "source": [
    "eps = np.finfo(float).eps\n",
    "A = np.array([[1,1e+07],[0,2]])\n",
    "np.linalg.eig(A)"
   ]
  },
  {
   "cell_type": "code",
   "execution_count": 261,
   "metadata": {},
   "outputs": [
    {
     "data": {
      "text/plain": [
       "(array([2., 1.]),\n",
       " array([[ 0.e+00,  1.e-07],\n",
       "        [ 1.e+00, -1.e+00]]))"
      ]
     },
     "execution_count": 261,
     "metadata": {},
     "output_type": "execute_result"
    }
   ],
   "source": [
    "np.linalg.eig(A.T)"
   ]
  },
  {
   "cell_type": "code",
   "execution_count": 298,
   "metadata": {},
   "outputs": [
    {
     "name": "stdout",
     "output_type": "stream",
     "text": [
      "s(l=1) =  1e-07\n"
     ]
    }
   ],
   "source": [
    "#For eigenvalue l=1\n",
    "v1 = np.array([1, 0])\n",
    "v2 = np.array([1.e-07, -1.e+00])\n",
    "s = v1 @ v2\n",
    "print('s(l=1) = ', s)"
   ]
  },
  {
   "cell_type": "code",
   "execution_count": 299,
   "metadata": {},
   "outputs": [
    {
     "name": "stdout",
     "output_type": "stream",
     "text": [
      "Perturbation:\n",
      " [[-0.79834487  0.29849811]\n",
      " [ 0.35384342 -0.38514826]]\n"
     ]
    }
   ],
   "source": [
    "W = np.random.randn(2,2)\n",
    "W = W / np.linalg.norm(W)\n",
    "print('Perturbation:\\n',W)"
   ]
  },
  {
   "cell_type": "code",
   "execution_count": 306,
   "metadata": {},
   "outputs": [
    {
     "data": {
      "text/plain": [
       "(array([[9.99999921e-01, 1.00000000e+07],\n",
       "        [0.00000000e+00, 2.00000008e+00]]),\n",
       " array([[-1.00000000e+00, -7.85690166e-15],\n",
       "        [ 7.85690166e-15, -1.00000000e+00]]))"
      ]
     },
     "execution_count": 306,
     "metadata": {},
     "output_type": "execute_result"
    }
   ],
   "source": [
    "e = 100*eps\n",
    "AW = A + e * W\n",
    "scipy.linalg.schur(AW)"
   ]
  },
  {
   "cell_type": "code",
   "execution_count": 309,
   "metadata": {},
   "outputs": [
    {
     "name": "stdout",
     "output_type": "stream",
     "text": [
      "Theoretical changes in eigenvalues:  2.220446049250313e-07\n",
      "Real changes:  7.856903438963059e-08\n",
      "Theoretical changes are bigger than real\n"
     ]
    }
   ],
   "source": [
    "print('Theoretical changes in eigenvalues: ', e / s)\n",
    "print('Real changes: ', abs(np.linalg.eig(A)[0] - np.linalg.eig(AW)[0])[0])\n",
    "print('Theoretical changes are bigger than real')"
   ]
  },
  {
   "cell_type": "code",
   "execution_count": null,
   "metadata": {},
   "outputs": [],
   "source": []
  },
  {
   "cell_type": "code",
   "execution_count": 311,
   "metadata": {},
   "outputs": [],
   "source": [
    "a = 5\n",
    "B = np.array([[1,a],[0,1]])\n",
    "Beps = np.array([[1,a],[eps,1]])"
   ]
  },
  {
   "cell_type": "code",
   "execution_count": 316,
   "metadata": {},
   "outputs": [
    {
     "name": "stdout",
     "output_type": "stream",
     "text": [
      "Eigenvalues [1.+0.j 1.+0.j]\n",
      "Eigenvectors\n",
      " [[ 1.0000000e+00 -1.0000000e+00]\n",
      " [ 0.0000000e+00  4.4408921e-17]] \n",
      "\n",
      "Difference in eigenvalues\n",
      " 3.332000941824731e-08 \n",
      "\n",
      "Max difference in eigenvectors\n",
      " 6.664001874625056e-09\n"
     ]
    }
   ],
   "source": [
    "L, V = scipy.linalg.eig(B)\n",
    "Leps, Veps = scipy.linalg.eig(Beps)\n",
    "print('Eigenvalues',L)\n",
    "print('Eigenvectors\\n',V,'\\n')\n",
    "print('Difference in eigenvalues\\n', abs(L-Leps)[0],'\\n')\n",
    "print('Max difference in eigenvectors\\n', np.amax(abs(V-Veps)))"
   ]
  },
  {
   "cell_type": "code",
   "execution_count": null,
   "metadata": {},
   "outputs": [],
   "source": []
  },
  {
   "cell_type": "code",
   "execution_count": null,
   "metadata": {},
   "outputs": [],
   "source": []
  },
  {
   "cell_type": "code",
   "execution_count": 317,
   "metadata": {},
   "outputs": [],
   "source": [
    "B = np.array([[1,3,7],[3,1,2],[7,2,1]])"
   ]
  },
  {
   "cell_type": "code",
   "execution_count": 367,
   "metadata": {},
   "outputs": [
    {
     "data": {
      "text/plain": [
       "array([[1, 3, 7],\n",
       "       [3, 1, 2],\n",
       "       [7, 2, 1]])"
      ]
     },
     "execution_count": 367,
     "metadata": {},
     "output_type": "execute_result"
    }
   ],
   "source": [
    "B"
   ]
  },
  {
   "cell_type": "code",
   "execution_count": 395,
   "metadata": {},
   "outputs": [],
   "source": [
    "import matplotlib.pyplot as plt\n",
    "def QR_Schur(Mat, epsilon = 10*eps):\n",
    "    def Residual(Mat):\n",
    "        n = Mat.shape[0]\n",
    "        S = 0\n",
    "        for i in range(n):\n",
    "            for k in range(n):\n",
    "                if i != k:\n",
    "                    S += Mat[i,k] * Mat[i,k]\n",
    "        return np.sqrt(S)\n",
    "    \n",
    "    Mat = scipy.linalg.hessenberg(Mat)\n",
    "    N = Residual(Mat)\n",
    "    U, V = scipy.linalg.schur(Mat)\n",
    "    count = 0\n",
    "    dist = []\n",
    "    QQ = np.eye(Mat.shape[0])\n",
    "    while N > epsilon:\n",
    "        mu = Mat[-1,-1]\n",
    "        Mat = Mat - mu * np.eye(Mat.shape[0])\n",
    "        Q, R = np.linalg.qr(Mat)\n",
    "        Mat = R @ Q + mu * np.eye(Mat.shape[0])\n",
    "#         Q, R = np.linalg.qr(Mat)\n",
    "#         Mat = R @ Q\n",
    "        N = Residual(Mat)\n",
    "        count += 1\n",
    "        dist.append(np.amax(Mat-U))\n",
    "        QQ = QQ @ Q\n",
    "    \n",
    "    niter = [i for i in range(1,count+1)]\n",
    "    plt.plot(niter, dist)\n",
    "    plt.xlabel('N')\n",
    "    plt.ylabel('Distance')\n",
    "    plt.yscale('log')\n",
    "    \n",
    "    return Mat, QQ"
   ]
  },
  {
   "cell_type": "code",
   "execution_count": 397,
   "metadata": {},
   "outputs": [
    {
     "data": {
      "image/png": "[encoded data removed]",
      "text/plain": [
       "<Figure size 432x288 with 1 Axes>"
      ]
     },
     "metadata": {
      "needs_background": "light"
     },
     "output_type": "display_data"
    }
   ],
   "source": [
    "R, Q = QR_Schur(B)"
   ]
  },
  {
   "cell_type": "code",
   "execution_count": 392,
   "metadata": {},
   "outputs": [
    {
     "name": "stdout",
     "output_type": "stream",
     "text": [
      "[[-0.66464807 -0.72239043  0.19077476]\n",
      " [-0.38602203  0.11339537 -0.91549357]\n",
      " [-0.63971082  0.6821243   0.35422663]]\n"
     ]
    }
   ],
   "source": [
    "Y, P = scipy.linalg.schur(B)"
   ]
  },
  {
   "cell_type": "code",
   "execution_count": 406,
   "metadata": {},
   "outputs": [
    {
     "name": "stdout",
     "output_type": "stream",
     "text": [
      "Difference in R:\n",
      " [[ 1.77635684e-15  5.57834898e-15 -3.08860263e-18]\n",
      " [-7.71350923e-16 -4.44089210e-15  2.07467229e-16]\n",
      " [ 0.00000000e+00  0.00000000e+00  5.55111512e-17]] \n",
      "\n",
      "Difference in Q:\n",
      " [[-1.32929614e+00  4.44089210e-16  5.55111512e-17]\n",
      " [ 3.54026525e-01  7.85035148e-01 -9.50538515e-01]\n",
      " [-5.36895037e-01  5.17649161e-01 -6.26781445e-01]]\n"
     ]
    }
   ],
   "source": [
    "print('Difference in R:\\n', Y-R,'\\n')\n",
    "print('Difference in Q:\\n', P-Q)"
   ]
  },
  {
   "cell_type": "code",
   "execution_count": null,
   "metadata": {},
   "outputs": [],
   "source": []
  },
  {
   "cell_type": "code",
   "execution_count": 424,
   "metadata": {},
   "outputs": [],
   "source": [
    "def SVD_decomposition(Mat, epsilon = 10*eps):\n",
    "    def Residual(Mat):\n",
    "        n = Mat.shape[0]\n",
    "        S = 0\n",
    "        for i in range(n):\n",
    "            for k in range(n):\n",
    "                if i != k:\n",
    "                    S += Mat[i,k] * Mat[i,k]\n",
    "        return np.sqrt(S)\n",
    "    \n",
    "    def LQ_decomposition(Mat):\n",
    "        Q,R = np.linalg.qr(Mat)\n",
    "        L = R.T.conjugate()\n",
    "        Q = Q.T.conjugate()\n",
    "        return L, Q\n",
    "    \n",
    "    Mat = scipy.linalg.hessenberg(Mat)\n",
    "    N = Residual(Mat)\n",
    "    UU = np.eye(Mat.shape[0])\n",
    "    VV = np.eye(Mat.shape[1])\n",
    "    while N > epsilon:\n",
    "        Q, R = np.linalg.qr(Mat)\n",
    "        L, P = LQ_decomposition(R)\n",
    "        Mat = L\n",
    "        N = Residual(Mat)\n",
    "        UU = UU @ Q\n",
    "        VV = VV @ P\n",
    "        \n",
    "    return UU, np.diag(Mat), VV"
   ]
  },
  {
   "cell_type": "code",
   "execution_count": 425,
   "metadata": {},
   "outputs": [
    {
     "data": {
      "text/plain": [
       "(array([[-0.06033801,  0.99144793,  0.11571655],\n",
       "        [-0.97629466, -0.08275867,  0.19999937],\n",
       "        [ 0.20786551, -0.10090589,  0.97293881]]),\n",
       " array([ 9.47973855, -6.08073633, -0.39900221]),\n",
       " array([[1., 0., 0.],\n",
       "        [0., 1., 0.],\n",
       "        [0., 0., 1.]]))"
      ]
     },
     "execution_count": 425,
     "metadata": {},
     "output_type": "execute_result"
    }
   ],
   "source": [
    "SVD_decomposition(B)"
   ]
  },
  {
   "cell_type": "code",
   "execution_count": 417,
   "metadata": {},
   "outputs": [
    {
     "data": {
      "text/plain": [
       "(array([[-0.66464807,  0.72239043,  0.19077476],\n",
       "        [-0.38602203, -0.11339537, -0.91549357],\n",
       "        [-0.63971082, -0.6821243 ,  0.35422663]]),\n",
       " array([9.47973855, 6.08073633, 0.39900221]),\n",
       " array([[-0.66464807, -0.38602203, -0.63971082],\n",
       "        [-0.72239043,  0.11339537,  0.6821243 ],\n",
       "        [-0.19077476,  0.91549357, -0.35422663]]))"
      ]
     },
     "execution_count": 417,
     "metadata": {},
     "output_type": "execute_result"
    }
   ],
   "source": [
    "np.linalg.svd(B)"
   ]
  },
  {
   "cell_type": "code",
   "execution_count": null,
   "metadata": {},
   "outputs": [],
   "source": []
  }
 ],
 "metadata": {
  "kernelspec": {
   "display_name": "Python 3",
   "language": "python",
   "name": "python3"
  },
  "language_info": {
   "codemirror_mode": {
    "name": "ipython",
    "version": 3
   },
   "file_extension": ".py",
   "mimetype": "text/x-python",
   "name": "python",
   "nbconvert_exporter": "python",
   "pygments_lexer": "ipython3",
   "version": "3.8.3"
  }
 },
 "nbformat": 4,
 "nbformat_minor": 4
}
