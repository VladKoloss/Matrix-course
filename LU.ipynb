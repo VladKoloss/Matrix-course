{
 "cells": [
  {
   "cell_type": "markdown",
   "metadata": {},
   "source": [
    "# Part 1"
   ]
  },
  {
   "cell_type": "code",
   "execution_count": 9,
   "metadata": {},
   "outputs": [],
   "source": [
    "import numpy as np\n",
    "import matplotlib.pyplot as plt"
   ]
  },
  {
   "cell_type": "code",
   "execution_count": 284,
   "metadata": {},
   "outputs": [
    {
     "data": {
      "image/png": "[encoded data removed]",
      "text/plain": [
       "<Figure size 432x288 with 1 Axes>"
      ]
     },
     "metadata": {
      "needs_background": "light"
     },
     "output_type": "display_data"
    },
    {
     "name": "stdout",
     "output_type": "stream",
     "text": [
      "Число обусловленности 3.0\n"
     ]
    }
   ],
   "source": [
    "def matrix_A(N):\n",
    "    A = np.zeros( (2*N,)*4 ) # Матрица разрежена, значит начинаем с нулевой матрицы.\n",
    "    k = np.arange(2*N)[:,None] # Все возможные значения индекса для x координаты.\n",
    "    kplus = ((k+1)%(2*N)) # Ячейка правее, чем указанная в массиве k.\n",
    "    n = np.arange(2*N)[None,:] # Все возможные значения индекса для y координаты.\n",
    "    nplus = ((n+1)%(2*N)) # Ячейка выше, чем указанная в массиве n.\n",
    "    A[k,n,k,n] = -4*N**2 # Устанавливаем все диагональные элементы.\n",
    "    A[k,nplus,k,n] = N**2 # Устанавливаем значения для соседей по вертикали.\n",
    "    A[k,n,k,nplus] = N**2 \n",
    "    A[kplus,n,k,n] = N**2 # и по горизонтали.\n",
    "    A[k,n,kplus,n] = N**2 \n",
    "    return A\n",
    "\n",
    "def flatten_matrix(A):\n",
    "    \"\"\"Преобразует матрицу со сложными индексами в обучную матрицу в числовыми индексами.\"\"\"\n",
    "    N, M, N1, M1 = A.shape\n",
    "    return A.reshape((N*M, N1*M1))\n",
    "\n",
    "\n",
    "n = 1\n",
    "\n",
    "# Посмотрим на структуру матрицы.\n",
    "A=matrix_A(n)\n",
    "plt.imshow(flatten_matrix(A)) # Для отрисовки приведем ее к обычному виду - квадратному массиву.\n",
    "plt.show()\n",
    "# Матрица разреженная, причем ее можно представить трехдиагональном виде, однако на диагонали стоят блоки.\n",
    "\n",
    "print(\"Число обусловленности\", np.linalg.cond(flatten_matrix(A)))\n",
    "# Число обусловленности получается около 6e16, а значит решение систем с такой матрицей не дает \n",
    "# ни одного верного знака в ответе."
   ]
  },
  {
   "cell_type": "code",
   "execution_count": 285,
   "metadata": {},
   "outputs": [
    {
     "data": {
      "text/plain": [
       "array([[-4.,  1.,  1.,  0.],\n",
       "       [ 1., -4.,  0.,  1.],\n",
       "       [ 1.,  0., -4.,  1.],\n",
       "       [ 0.,  1.,  1., -4.]])"
      ]
     },
     "execution_count": 285,
     "metadata": {},
     "output_type": "execute_result"
    }
   ],
   "source": [
    "flatten_matrix(A)"
   ]
  },
  {
   "cell_type": "code",
   "execution_count": 269,
   "metadata": {},
   "outputs": [
    {
     "name": "stdout",
     "output_type": "stream",
     "text": [
      "Ошибка решения: 0.07276755461170926\n",
      "Невязка на численном решении: 7.074811187622318e-15\n",
      "Невязка на аналитическом решении: 1.7763568394002505e-15\n"
     ]
    },
    {
     "data": {
      "image/png": "[encoded data removed]",
      "text/plain": [
       "<Figure size 720x216 with 4 Axes>"
      ]
     },
     "metadata": {
      "needs_background": "light"
     },
     "output_type": "display_data"
    }
   ],
   "source": [
    "\n",
    "def grid_x(N): \n",
    "    \"\"\"Считает сетку для координаты x.\"\"\"\n",
    "    return np.arange(2*N)/N-1\n",
    "\n",
    "def grid_y(N): \n",
    "    \"\"\"Считает сетку для координаты y.\"\"\"\n",
    "    return np.arange(2*N)/N-1\n",
    "    \n",
    "def problem_1(N):\n",
    "    \"\"\"\n",
    "    Возвращает пару (f, u), где \n",
    "        `f` - правая часть уравнения Пуассона в узлах решетки,\n",
    "        `u` - аналитическое решение ДИСКРЕТИЗОВАННОГО уравнения Пуассона с правой частью `f`.\n",
    "    \"\"\"\n",
    "    x, y = grid_x(N)[:,None], grid_y(N)[None,:]\n",
    "    f = np.cos(np.pi*x)*np.cos(np.pi*y)\n",
    "    mu = 4*(np.cos(np.pi/N)-1)*N**2 # Собственное значение дискретизации оператора Лапласа отвечающее f.\n",
    "    u = f/mu\n",
    "    return f, u\n",
    "    \n",
    "def solve_poisson_using_np(f):\n",
    "    \"\"\"\n",
    "    Решает уравнение Пуассона с заданной правой частью `f`.\n",
    "    Возвращает решение `u` и невязку `r`.\n",
    "    \"\"\"\n",
    "    N = f.shape[0]//2\n",
    "    A = matrix_A(N)\n",
    "    Af = flatten_matrix(A) # Превращаем мультииндекс в целое число.\n",
    "    ff = f.flatten()\n",
    "    u = np.linalg.solve( Af, ff )\n",
    "    r = ff-Af@u\n",
    "    return u.reshape(f.shape), r.reshape(f.shape)\n",
    "\n",
    "\n",
    "N = 2*n\n",
    "f, u0 = problem_1(N)\n",
    "u, r = solve_poisson_using_np(f)\n",
    "# print(\"Приближенное решение:\", u[:5,:5] )\n",
    "# print(\"Точное решение:\", u0[:5,:5] )\n",
    "# print(\"Ошибка:\", u[:5,:5] - u0[:5,:5] )\n",
    "print(\"Ошибка решения:\", np.linalg.norm( (u-u0).flatten(), ord=np.inf ))\n",
    "print(\"Невязка на численном решении:\", np.linalg.norm( (r).flatten(), ord=np.inf ))\n",
    "\n",
    "Af = flatten_matrix(matrix_A(N))\n",
    "r0 = f.flatten()-Af@u0.flatten()\n",
    "print(\"Невязка на аналитическом решении:\", np.linalg.norm( (r0).flatten(), ord=np.inf ))\n",
    "\n",
    "fig, (ax1, ax2, ax3) = plt.subplots(1, 3, figsize=(10,3))\n",
    "ax1.imshow(u.T)\n",
    "ax2.imshow(u0.T)\n",
    "im=ax3.imshow((u-u0).T)\n",
    "plt.colorbar(im, ax=ax3)\n",
    "ax1.set_title(\"Численное решение\")\n",
    "ax2.set_title(\"Аналитическое решение\")\n",
    "ax3.set_title(\"Ошибка решения\")\n",
    "plt.tight_layout()\n",
    "plt.show()\n",
    "\n",
    "# Визуальное решение получилось очень похожим на верное, однако ошибка решения очень велика, хотя невязка мала."
   ]
  },
  {
   "cell_type": "code",
   "execution_count": 267,
   "metadata": {},
   "outputs": [
    {
     "name": "stdout",
     "output_type": "stream",
     "text": [
      "Среднее значение численного решения: 0.01586783340747865\n",
      "Среднее значение аналитического решения 0.0\n",
      "Ошибка решения с поправкой на константу: 2.42861286636753e-16\n"
     ]
    }
   ],
   "source": [
    "# Можно заметить, что численное решение отличается на константу от аналитического.\n",
    "print(\"Среднее значение численного решения:\", np.mean(u))\n",
    "print(\"Среднее значение аналитического решения\", np.mean(u0))\n",
    "# Так как решение уравнения Пуассона с периодическими граничными условиями определено не однозначно,\n",
    "# и мы никак не ограничивали свободу решения, то не удивительно, что мы получили не ожидаемое решение.\n",
    "# Попробуем вычесть среднее и снова посчитаем ошибку.\n",
    "u_corrected = u-np.mean(u)\n",
    "print(\"Ошибка решения с поправкой на константу:\", np.linalg.norm( (u_corrected-u0).flatten(), ord=np.inf ))\n",
    "# Ошибка стала меньше, но не исчезла совсем."
   ]
  },
  {
   "cell_type": "code",
   "execution_count": 268,
   "metadata": {},
   "outputs": [
    {
     "name": "stdout",
     "output_type": "stream",
     "text": [
      "Среднее значение численного решения: 4.6837533851373795e-18\n",
      "Невязка: 5.5289106626332796e-14\n",
      "Ошибка решения: 4.649058915617843e-16\n"
     ]
    }
   ],
   "source": [
    "def solve_poisson_fix1(f):\n",
    "    \"\"\"\n",
    "    Решает уравнение Пуассона, делая поправку на постоянных функциях.\n",
    "    \"\"\"\n",
    "    N = f.shape[0]//2\n",
    "    A = matrix_A(N)\n",
    "    # Превращаем мультииндекс в целое число.\n",
    "    Af = flatten_matrix(A) \n",
    "    ff = f.flatten()\n",
    "    # Исправляем поведение на постоянных функциях.\n",
    "    Af -= 1/N\n",
    "    ff -= np.mean(ff)\n",
    "    # Матрица обусловлена теперь гораздо лучше.\n",
    "#     print(f\"Число обусловленности исправленной системы\", np.linalg.cond(Af))\n",
    "    # Решаем систему.\n",
    "    u = np.linalg.solve( Af, ff )\n",
    "    r = ff-Af@u\n",
    "    return u.reshape(f.shape), r.reshape(f.shape)\n",
    "\n",
    "f, u0 = problem_1(20)\n",
    "u, r = solve_poisson_fix1(f)\n",
    "print(f\"Среднее значение численного решения:\", np.mean(u))\n",
    "print(\"Невязка:\", np.linalg.norm( (r).flatten(), ord=np.inf ))\n",
    "print(\"Ошибка решения:\", np.linalg.norm( (u-u0).flatten(), ord=np.inf ))"
   ]
  },
  {
   "cell_type": "markdown",
   "metadata": {},
   "source": [
    "# Part 2"
   ]
  },
  {
   "cell_type": "code",
   "execution_count": 14,
   "metadata": {},
   "outputs": [
    {
     "data": {
      "text/html": [
       "<!-- Скобки вокруг матрицы согласно https://stackoverflow.com/questions/11561137/html-css-for-brackets-around-mathematical-matrix-prefer-lightweight/11561235 --> \n",
       "<style>\n",
       "    .matrix { position: relative; left: 6px; } \n",
       "    .matrix:before, .matrix:after { content: \"\"; position: absolute; top: 0; border: 1px solid #000; width: 6px; height: 100%; } \n",
       "    .matrix:before { left: -6px; border-right: 0; } \n",
       "    .matrix:after { right: -6px; border-left: 0; }\n",
       "</style>\n"
      ],
      "text/plain": [
       "<IPython.core.display.HTML object>"
      ]
     },
     "metadata": {},
     "output_type": "display_data"
    }
   ],
   "source": [
    "%%html\n",
    "<!-- Скобки вокруг матрицы согласно https://stackoverflow.com/questions/11561137/html-css-for-brackets-around-mathematical-matrix-prefer-lightweight/11561235 --> \n",
    "<style>\n",
    "    .matrix { position: relative; left: 6px; } \n",
    "    .matrix:before, .matrix:after { content: \"\"; position: absolute; top: 0; border: 1px solid #000; width: 6px; height: 100%; } \n",
    "    .matrix:before { left: -6px; border-right: 0; } \n",
    "    .matrix:after { right: -6px; border-left: 0; }\n",
    "</style>"
   ]
  },
  {
   "cell_type": "code",
   "execution_count": 15,
   "metadata": {},
   "outputs": [
    {
     "data": {
      "text/html": [
       "<table class=\"matrix\"><tr><td>1</td><td>0</td></tr><tr><td>0</td><td>2</td></tr></table>"
      ],
      "text/plain": [
       "<__main__.DenseMatrix at 0x2a45ae4cee0>"
      ]
     },
     "metadata": {},
     "output_type": "display_data"
    },
    {
     "data": {
      "text/html": [
       "<table class=\"matrix\"><tr><td>1</td><td>1</td></tr><tr><td>0</td><td>1</td></tr></table>"
      ],
      "text/plain": [
       "<__main__.DenseMatrix at 0x2a45ae4c700>"
      ]
     },
     "metadata": {},
     "output_type": "display_data"
    },
    {
     "data": {
      "text/html": [
       "<table class=\"matrix\"><tr><td>2</td><td>1</td></tr><tr><td>0</td><td>4</td></tr></table>"
      ],
      "text/plain": [
       "<__main__.DenseMatrix at 0x2a45b484190>"
      ]
     },
     "metadata": {},
     "output_type": "display_data"
    }
   ],
   "source": [
    "# Для того, чтобы ваше решение затем можно было переиспользовать и далее расширять, будет предпочтительным\n",
    "# реализовать классы для матриц специального вида, реализующих общий интерфейс, позволяющий решать системы\n",
    "# с этими матрицами и производить другие необходимые операции наиболее эффективным для каждого типа матриц способом.\n",
    "\n",
    "from IPython.display import HTML, display\n",
    "\n",
    "# Определим базовых класс, который будет выполнять операции с матрицами,\n",
    "# приводя их к заполеннными и обрабатывая их функциями из numpy.\n",
    "class Matrix:\n",
    "    @property\n",
    "    def shape(self): # Должно возвращать размер матрицы, но в базовом классе размер не известен.\n",
    "        raise NotImplementedError() \n",
    "    def __add__(self, other): # Операция сложения матриц\n",
    "        if isinstance(other, Matrix): # Определим сложение матрицы с матрицей.\n",
    "            # Корректность операции нужно проверять, но numpy это уже делает.\n",
    "#             assert self.shape == other.shape, \"Несовпадение размеров\" \n",
    "            return DenseMatrix(self.to_dense()+other.to_dense())\n",
    "        else: return NotImplemented\n",
    "    # Аналогично можно определить вычитание __sub__, поэлементное умножение __mul__ и т.п.\n",
    "    # См. полный список операторов https://docs.python.org/3/library/operator.html\n",
    "    def __matmul__(self, other): # Матричное умножение self@other.\n",
    "        return DenseMatrix(self.to_dense()@other.to_dense())\n",
    "    def solve(self, b):\n",
    "        \"\"\"Решает систему self@u=b.\"\"\"\n",
    "        assert self.shape[0]==b.shape[0]\n",
    "        return np.linalg.solve(self.to_dense(), b.to_dense())\n",
    "    def _repr_html_(self): # Jupyter может выводить объекты в разных видах, например, выведем матрицу в виде таблицы.\n",
    "        return f'<table class=\"matrix\">'+\"\".join([ '<tr>'+\"\".join([f\"<td>{c}</td>\" for c in row])+'</tr>' for row in self.to_dense() ])+'</table>'\n",
    "\n",
    "# Реализация матриц, хранящая заполненную матрицу.\n",
    "class DenseMatrix(Matrix):\n",
    "    def __init__(self, data):\n",
    "        \"\"\"Создает плотную матрицу с коэффициентами из массива `data`.\"\"\"\n",
    "        self._data = np.array(data) # Сохраняем коэффициенты в приватной переменной преобразую в numpy.ndarray.\n",
    "        assert self._data.ndim==2 # Проверим корректность данных.\n",
    "    def __getitem__(self, key): # Извлечение элемента матрицы (или подматрицы).\n",
    "        return self._data[key]\n",
    "    def to_dense(self): # Преобразует матрицу к плотной матрице в виде массива numpy.\n",
    "        return self._data # Возращается НЕ копия, возвращаемый массив не должен изменяться.\n",
    "    @property\n",
    "    def shape(self): # Возвращает размер матрицы\n",
    "        return self._data.shape\n",
    "\n",
    "    \n",
    "a = DenseMatrix([[1,0],[0,2]])\n",
    "b = DenseMatrix([[1,1],[0,1]])\n",
    "display(a)\n",
    "display(b)\n",
    "display(a+a@b)"
   ]
  },
  {
   "cell_type": "code",
   "execution_count": 123,
   "metadata": {},
   "outputs": [
    {
     "data": {
      "text/plain": [
       "array([[21., 10.,  0.,  0.],\n",
       "       [ 9., 24., 11.,  0.],\n",
       "       [20., 12., 27., 12.],\n",
       "       [18., 23., 15.,  4.]])"
      ]
     },
     "metadata": {},
     "output_type": "display_data"
    },
    {
     "data": {
      "text/plain": [
       "array([ 1.,  4.,  7., 10.])"
      ]
     },
     "metadata": {},
     "output_type": "display_data"
    }
   ],
   "source": [
    "# Ленточные матрицы (имеющие небольшое число ненулевых диагоналей) дают пример матриц,\n",
    "# которые можно хранить значительно компактнее матриц общего назначения, \n",
    "# расчеты с ними быстрее, чем с заполненными матрицами.\n",
    "class BandMatrix(Matrix):\n",
    "    def __init__(self, diagonal, lower_diagonals=[], upper_diagonals=[]):\n",
    "        \"\"\"\n",
    "        Создает ленточную матрицу.\n",
    "        `diagonal` - список элементов главной диагонали,\n",
    "        `lower_diagonals` - список диагоналей ниже главной, начиная с ближайшей к главной.\n",
    "        `upper_diagonals` - список диагоналей выше главной, начиная с ближайшей к главной.\n",
    "        \"\"\"\n",
    "        self._diagonal = diagonal\n",
    "        self._lower_diagonals = lower_diagonals\n",
    "        self._upper_diagonals = upper_diagonals\n",
    "    @property\n",
    "    def n(self): return len(self._diagonal) # Размер матрицы (матрица всегда квадратная).\n",
    "    @property\n",
    "    def p(self): return len(self._lower_diagonals) # Число диагоналей ниже главной.\n",
    "    @property\n",
    "    def q(self): return len(self._upper_diagonals) # Число диагоналей выше главной.\n",
    "    @property\n",
    "    def shape(self): # Переопределяем вычисление размера \n",
    "        return (self.n,)*2\n",
    "    def __getitem__(self, key): # Извлечение элемента матрицы (или подматрицы).\n",
    "        (i,j) = key # Распаковываем индексы матрицы.\n",
    "        d = j-i # Номер диагонали, верхние с плюсом.\n",
    "        if d>self.q or d<-self.p: return 0 # Элемент вне ленты.\n",
    "        n = (j+i-abs(d))//2 # Номер элемента на диагонали (считая от верхнего/левого элемента).\n",
    "        return (self._diagonal[n] if d==0 else \n",
    "                self._upper_diagonals[d-1][n] if d>0 else \n",
    "                self._lower_diagonals[-d-1][n])\n",
    "    def to_dense(self): # Преобразует матрицу к плотной матрице в виде массива numpy.\n",
    "        result = np.zeros(self.shape)\n",
    "        for i in range(self.shape[0]):\n",
    "            for j in range(self.shape[1]): # TODO Можно перебирать меньше элементов.\n",
    "                result[i,j] = self[i,j]\n",
    "        return result\n",
    "    \n",
    "    def to_band(self): # Преобразование NumPy массива к ленточному виду\n",
    "        \n",
    "        return 0\n",
    "    def __add__(self, other): # Операция сложения матриц\n",
    "        if isinstance(self, BandMatrix) and isinstance(other, BandMatrix):\n",
    "            # Корректность операции нужно проверять, но numpy это уже делает.\n",
    "            assert self.shape == other.shape, \"Несовпадение размеров\"\n",
    "            \n",
    "            res = BandMatrix(diagonal=[], lower_diagonals=[], upper_diagonals=[])            \n",
    "            up_min = min(self.q, other.q)\n",
    "            down_min = min(self.p, other.p)\n",
    "            \n",
    "            for k in range(up_min):\n",
    "                res._upper_diagonals += [(np.array(self._upper_diagonals[k]) + np.array(other._upper_diagonals[k])).flatten().tolist()]      \n",
    "            for k in range(down_min):\n",
    "                res._lower_diagonals += [(np.array(self._lower_diagonals[k]) + np.array(other._lower_diagonals[k])).flatten().tolist()]\n",
    "\n",
    "            res._diagonal = (np.array(self._diagonal) + np.array(other._diagonal)).flatten().tolist()            \n",
    "\n",
    "            if self.p < other.p:\n",
    "                res._lower_diagonals += other._lower_diagonals[-(other.p - self.p):]\n",
    "            if self.p > other.p:\n",
    "                res._lower_diagonals += self._lower_diagonals[-(self.p - other.p):]\n",
    "            if self.q < other.q:\n",
    "                res._upper_diagonals += other._upper_diagonals[-(other.p - self.p):]\n",
    "            if self.q > other.q:\n",
    "                res._upper_diagonals += self._upper_diagonals[-(self.p - other.p):]       \n",
    "                \n",
    "            return DenseMatrix(res.to_dense())\n",
    "        else: return NotImplemented\n",
    "\n",
    "\n",
    "    def __neg__(self): # Возвращает противоположные значения элементов\n",
    "        if isinstance(self, BandMatrix):\n",
    "            \n",
    "            for i in range(len(self._lower_diagonals)):\n",
    "                for j in range(len(self._lower_diagonals[i])):\n",
    "                    self._lower_diagonals[i][j] = -self._lower_diagonals[i][j]\n",
    "                    \n",
    "            for i in range(len(self._upper_diagonals)):\n",
    "                for j in range(len(self._upper_diagonals[i])):\n",
    "                    self._upper_diagonals[i][j] = -self._upper_diagonals[i][j] \n",
    "                    \n",
    "            for i in range(len(self._diagonal)):\n",
    "                self._diagonal[i] = -self._diagonal[i]                    \n",
    "\n",
    "            return self\n",
    "        else: return NotImplemented\n",
    "        \n",
    "    def __sub__(self, other): # Операция вычитания матриц\n",
    "        if isinstance(self, BandMatrix) and isinstance(other, BandMatrix): \n",
    "            # Корректность операции нужно проверять, но numpy это уже делает.\n",
    "            assert self.shape == other.shape, \"Несовпадение размеров\"\n",
    "            \n",
    "            other = -other\n",
    "            self = self + other\n",
    "\n",
    "            return DenseMatrix(self.to_dense())\n",
    "        else: return NotImplemented\n",
    "    \n",
    "    @property    \n",
    "    def T(self): #Транспонирование матрицы\n",
    "        if isinstance(self, BandMatrix):\n",
    "            \n",
    "            self._lower_diagonals, self._upper_diagonals = self._upper_diagonals, self._lower_diagonals\n",
    "            \n",
    "            return self\n",
    "        else: return NotImplemented\n",
    "        \n",
    "    def __matmul__(self, other): #дописать перевод обратно в ленточный вид для перемножения матриц\n",
    "        if isinstance(self, BandMatrix):\n",
    "            vec = False\n",
    "            if isinstance(other, BandMatrix):\n",
    "                B = DenseMatrix(other.to_dense())\n",
    "            elif (not(isinstance(other, BandMatrix))) and (len(other) == self.n):\n",
    "                other = BandMatrix(diagonal = other)\n",
    "                B = DenseMatrix(other.to_dense())\n",
    "                vec = True\n",
    "            else: return NotImplemented\n",
    "            \n",
    "            res = np.zeros((self.n,self.n))\n",
    "            A = DenseMatrix(self.to_dense())\n",
    "            \n",
    "            for i in range(self.n):\n",
    "                for j in range(self.n):\n",
    "                    up = min(min(self.n - 1, i + self.q), min(self.n - 1, j + other.p)) + 1\n",
    "                    down = max(max(0, j - other.q), max(0, i - self.p))\n",
    "                    buf = 0\n",
    "                    for k in range(down, up):\n",
    "                        buf += A[i][k] * B[k][j]\n",
    "                    res[i][j] = buf\n",
    "            \n",
    "            if vec == True:\n",
    "                res = np.sum(res, axis = 1)\n",
    "            \n",
    "            return res           \n",
    "        else: return NotImplemented\n",
    "\n",
    "    def Band_solver(self, vector):\n",
    "        if isinstance(self, BandMatrix):\n",
    "            \n",
    "            if (self.p <= 1) and (self.q <= 1):\n",
    "                alpha = np.zeros(self.n)\n",
    "                beta = np.zeros(self.n)\n",
    "                \n",
    "                up_diag = self._upper_diagonals[0] + [0]\n",
    "                low_diag = [0] + self._lower_diagonals[0]\n",
    "                diag = self._diagonal\n",
    "                \n",
    "                alpha[1] = -up_diag[0]/diag[0]\n",
    "                beta[1] = vector[0]/diag[0]\n",
    "\n",
    "                for i in range(1,self.n-1):\n",
    "                    alpha[i+1] = -up_diag[i]/(low_diag[i] * alpha[i] + diag[i])\n",
    "                    beta[i+1] = (vector[i] - low_diag[i] * beta[i])/(low_diag[i] * alpha[i] + diag[i])\n",
    "                \n",
    "                sol = np.zeros(self.n)\n",
    "                sol[-1] = (vector[-1] - low_diag[-1] * beta[-1])/(diag[-1] + alpha[-1] * low_diag[-1])\n",
    "                for i in range(sel.n-2,-1,-1):\n",
    "                    sol[i] = alpha[i+1] * sol[i+1] + beta[i+1]\n",
    "                \n",
    "                return(sol)\n",
    "                \n",
    "            else: return 'Not a tridiagonal matrix'\n",
    "            \n",
    "        else: return NotImplemented\n",
    "        \n",
    "a = BandMatrix(diagonal=[1,2,3,4], lower_diagonals=[[5,6,7],[8,9]], upper_diagonals=[[10,11,12]])\n",
    "b = BandMatrix(diagonal=[1,1,1,1], lower_diagonals=[[2,2,2]])\n",
    "d = [1, 2, 3, 4]\n",
    "display(a@b)\n",
    "display(b@d)"
   ]
  },
  {
   "cell_type": "code",
   "execution_count": 20,
   "metadata": {},
   "outputs": [],
   "source": [
    "def Band_solver(self, vector):\n",
    "    if isinstance(self, BandMatrix):\n",
    "            \n",
    "        if (self.p <= 1) and (self.q <= 1):\n",
    "            alpha = np.zeros(self.n)\n",
    "            beta = np.zeros(self.n)\n",
    "                \n",
    "            up_diag = self._upper_diagonals[0] + [0]\n",
    "            low_diag = [0] + self._lower_diagonals[0]\n",
    "            diag = self._diagonal\n",
    "                \n",
    "            alpha[1] = -up_diag[0]/diag[0]\n",
    "            beta[1] = vector[0]/diag[0]\n",
    "\n",
    "            for i in range(1,self.n-1):\n",
    "                alpha[i+1] = -up_diag[i]/(low_diag[i] * alpha[i] + diag[i])\n",
    "                beta[i+1] = (vector[i] - low_diag[i] * beta[i])/(low_diag[i] * alpha[i] + diag[i])\n",
    "                \n",
    "            sol = np.zeros(self.n)\n",
    "            sol[-1] = (vector[-1] - low_diag[-1] * beta[-1])/(diag[-1] + alpha[-1] * low_diag[-1])\n",
    "            for i in range(self.n-2,-1,-1):\n",
    "                sol[i] = alpha[i+1] * sol[i+1] + beta[i+1]\n",
    "                \n",
    "            return(sol)\n",
    "                \n",
    "        else: return 'Not a tridiagonal matrix'\n",
    "            \n",
    "    else: return NotImplemented"
   ]
  },
  {
   "cell_type": "code",
   "execution_count": 230,
   "metadata": {},
   "outputs": [],
   "source": [
    "def LU_composition(A):\n",
    "    lu = np.matrix(np.zeros([A.shape[0], A.shape[1]]))\n",
    "    n = A.shape[0]\n",
    "    for k in range(n):\n",
    "        for j in range(k, n):\n",
    "            lu[k, j] = A[k, j] - lu[k, :k] * lu[:k, j]\n",
    "        for i in range(k + 1, n):\n",
    "            lu[i, k] = (A[i, k] - lu[i, : k] * lu[: k, k]) / lu[k, k]\n",
    "    L = lu.copy()\n",
    "    for i in range(L.shape[0]):\n",
    "        L[i, i] = 1\n",
    "        L[i, i+1 :] = 0\n",
    "    U = lu.copy()\n",
    "    for i in range(1, U.shape[0]):\n",
    "        U[i, :i] = 0\n",
    "        \n",
    "    return(L,U)\n",
    "\n",
    "def LU_solver(A,b):\n",
    "    def L_solver(L,b):\n",
    "        x = np.zeros(b.shape[0])\n",
    "        for j in range(b.shape[0]):\n",
    "            x[j] = b[j]\n",
    "            for i in range(j):\n",
    "                x[j] = x[j] - (L[j,i])*x[i]\n",
    "        return(x)\n",
    "    \n",
    "    def U_solver(U,b):\n",
    "        x = np.zeros(b.shape[0])\n",
    "        for j in range(b.shape[0]-1,-1,-1):\n",
    "            x[j] = b[j]\n",
    "            for i in range(b.shape[0]-1,j,-1):\n",
    "                x[j] = x[j] - (U[j,i])*x[i]\n",
    "            x[j] = x[j]/U[j,j]\n",
    "        return(x)    \n",
    "        \n",
    "    L, U = LU_composition(A)\n",
    "    y = L_solver(L,b)\n",
    "    x = U_solver(U, y)\n",
    "    return(x)"
   ]
  },
  {
   "cell_type": "code",
   "execution_count": 231,
   "metadata": {},
   "outputs": [
    {
     "name": "stdout",
     "output_type": "stream",
     "text": [
      "[ 1.28235294  0.85882353 -0.35294118  1.38823529  2.83529412]\n",
      "[3. 4. 5. 6. 7.]\n"
     ]
    }
   ],
   "source": [
    "# Решение через NumPy\n",
    "A = np.array([[1,2,0,0,0], [3,1,2,0,0], [0,3,1,2,0], [0,0,3,1,2], [0,0,0,3,1]])\n",
    "b = [3, 4, 5, 6, 7]\n",
    "x1 = np.linalg.solve(A,b)\n",
    "print(x1)\n",
    "print(A @ x1)"
   ]
  },
  {
   "cell_type": "code",
   "execution_count": 232,
   "metadata": {},
   "outputs": [
    {
     "name": "stdout",
     "output_type": "stream",
     "text": [
      "[ 1.28235294  0.85882353 -0.35294118  1.38823529  2.83529412]\n",
      "[3. 4. 5. 6. 7.]\n"
     ]
    }
   ],
   "source": [
    "# Решение через LU-разложение методом прямой и обратной подстановки\n",
    "A = np.array([[1,2,0,0,0], [3,1,2,0,0], [0,3,1,2,0], [0,0,3,1,2], [0,0,0,3,1]])\n",
    "b = np.array([3, 4, 5, 6, 7])\n",
    "x2 = LU_solver(A,b)\n",
    "print(x2)\n",
    "print(A @ x2)"
   ]
  },
  {
   "cell_type": "code",
   "execution_count": 233,
   "metadata": {},
   "outputs": [
    {
     "name": "stdout",
     "output_type": "stream",
     "text": [
      "[ 1.28235294  0.85882353 -0.35294118  1.38823529  2.83529412]\n",
      "[3. 4. 5. 6. 7.]\n"
     ]
    }
   ],
   "source": [
    "# Решение методом прогонки для ленточных (трехдиагональных) матриц\n",
    "C = BandMatrix(diagonal=[1, 1, 1, 1 ,1], lower_diagonals=[[3, 3, 3, 3]], upper_diagonals=[[2, 2, 2, 2]])\n",
    "x3 = Band_solver(C, b)\n",
    "print(x3)\n",
    "print(C @ x3)"
   ]
  },
  {
   "cell_type": "code",
   "execution_count": 287,
   "metadata": {},
   "outputs": [],
   "source": [
    "K = [[[1, 0], [0, 1]], [[1], [0]], [[1, 0]], [0]]"
   ]
  },
  {
   "cell_type": "code",
   "execution_count": 288,
   "metadata": {},
   "outputs": [
    {
     "name": "stdout",
     "output_type": "stream",
     "text": [
      "[[1, 0], [0, 1]]\n",
      "[[1], [0]]\n",
      "[[1, 0]]\n",
      "[0]\n"
     ]
    }
   ],
   "source": [
    "for b in K:\n",
    "    print(b)"
   ]
  },
  {
   "cell_type": "code",
   "execution_count": 289,
   "metadata": {},
   "outputs": [
    {
     "data": {
      "text/plain": [
       "[[1, 0], [0, 1], [1], [0]]"
      ]
     },
     "execution_count": 289,
     "metadata": {},
     "output_type": "execute_result"
    }
   ],
   "source": [
    "[[1, 0], [0, 1]] + [[1], [0]]"
   ]
  },
  {
   "cell_type": "code",
   "execution_count": 248,
   "metadata": {},
   "outputs": [],
   "source": [
    "# Ленточные матрицы (имеющие небольшое число ненулевых диагоналей) дают пример матриц,\n",
    "# которые можно хранить значительно компактнее матриц общего назначения, \n",
    "# расчеты с ними быстрее, чем с заполненными матрицами.\n",
    "class BlockMatrix(Matrix):\n",
    "    def __init__(self, blocks=[], xblocks=0, yblocks=0):\n",
    "        \"\"\"\n",
    "        Создает блочную матрицу.\n",
    "        `blocks` - список блоков, проход по горизонтали\n",
    "        \"\"\"\n",
    "        self._blocks = blocks\n",
    "        self._x  = xblocks # Число блоков в строке\n",
    "        self._y = yblocks # Число блоков в столбце\n",
    "\n",
    "#     @property\n",
    "#     def q(self): return len(self._upper_diagonals) # Число диагоналей выше главной.\n",
    "    @property\n",
    "    def shape(self): # Вычисление размера\n",
    "        x = 0\n",
    "        y = 0\n",
    "        for i in range(self._x):\n",
    "            x += len(self._blocks[i][0])\n",
    "        for j in range(self._y):\n",
    "            y += len(self._blocks[j*self._x])\n",
    "        return (x, y)\n",
    "    \n",
    "    def __getitem__(self, key): # Извлечение элемента матрицы (или подматрицы).\n",
    "        (i,j) = key # Распаковываем индексы матрицы.\n",
    "        \n",
    "        d = j-i # Номер диагонали, верхние с плюсом.\n",
    "        if d>self.q or d<-self.p: return 0 # Элемент вне ленты.\n",
    "        n = (j+i-abs(d))//2 # Номер элемента на диагонали (считая от верхнего/левого элемента).\n",
    "        \n",
    "        return (self._diagonal[n] if d==0 else \n",
    "                self._upper_diagonals[d-1][n] if d>0 else \n",
    "                self._lower_diagonals[-d-1][n])\n",
    "    \n",
    "    def to_dense(self): # Преобразует матрицу к плотной матрице в виде массива numpy.\n",
    "        for block in self._blocks:\n",
    "            \n",
    "        result = np.zeros(self.shape)\n",
    "        for i in range(self.shape[0]):\n",
    "            for j in range(self.shape[1]): # TODO Можно перебирать меньше элементов.\n",
    "                result[i,j] = self[i,j]\n",
    "        return result\n",
    "    \n",
    "#     def __add__(self, other): # Операция сложения матриц\n",
    "#         if isinstance(self, BandMatrix) and isinstance(other, BandMatrix): # Определим сложение матрицы с матрицей.\n",
    "#             # Корректность операции нужно проверять, но numpy это уже делает.\n",
    "#             assert self.shape == other.shape, \"Несовпадение размеров\"\n",
    "            \n",
    "#             res = BandMatrix(diagonal=[], lower_diagonals=[], upper_diagonals=[])            \n",
    "#             up_min = min(self.q, other.q)\n",
    "#             down_min = min(self.p, other.p)\n",
    "            \n",
    "#             for k in range(up_min):\n",
    "#                 res._upper_diagonals += [(np.array(self._upper_diagonals[k]) + np.array(other._upper_diagonals[k])).flatten().tolist()]      \n",
    "#             for k in range(down_min):\n",
    "#                 res._lower_diagonals += [(np.array(self._lower_diagonals[k]) + np.array(other._lower_diagonals[k])).flatten().tolist()]\n",
    "\n",
    "#             res._diagonal = (np.array(self._diagonal) + np.array(other._diagonal)).flatten().tolist()            \n",
    "\n",
    "#             if self.p < other.p:\n",
    "#                 res._lower_diagonals += other._lower_diagonals[-(other.p - self.p):]\n",
    "#             if self.p > other.p:\n",
    "#                 res._lower_diagonals += self._lower_diagonals[-(self.p - other.p):]\n",
    "#             if self.q < other.q:\n",
    "#                 res._upper_diagonals += other._upper_diagonals[-(other.p - self.p):]\n",
    "#             if self.q > other.q:\n",
    "#                 res._upper_diagonals += self._upper_diagonals[-(self.p - other.p):]       \n",
    "                \n",
    "#             return DenseMatrix(res.to_dense())\n",
    "#         else: return NotImplemented\n",
    "\n",
    "\n",
    "#     def __neg__(self): # Возвращает противоположные значения элементов\n",
    "#         if isinstance(self, BandMatrix):\n",
    "            \n",
    "#             for i in range(len(self._lower_diagonals)):\n",
    "#                 for j in range(len(self._lower_diagonals[i])):\n",
    "#                     self._lower_diagonals[i][j] = -self._lower_diagonals[i][j]\n",
    "                    \n",
    "#             for i in range(len(self._upper_diagonals)):\n",
    "#                 for j in range(len(self._upper_diagonals[i])):\n",
    "#                     self._upper_diagonals[i][j] = -self._upper_diagonals[i][j] \n",
    "                    \n",
    "#             for i in range(len(self._diagonal)):\n",
    "#                 self._diagonal[i] = -self._diagonal[i]                    \n",
    "\n",
    "#             return self\n",
    "#         else: return NotImplemented\n",
    "        \n",
    "#     def __sub__(self, other): # Операция вычитания матриц\n",
    "#         if isinstance(self, BandMatrix) and isinstance(other, BandMatrix): \n",
    "#             # Корректность операции нужно проверять, но numpy это уже делает.\n",
    "#             assert self.shape == other.shape, \"Несовпадение размеров\"\n",
    "            \n",
    "#             other = -other\n",
    "#             self = self + other\n",
    "\n",
    "#             return DenseMatrix(self.to_dense())\n",
    "#         else: return NotImplemented\n",
    "    \n",
    "#     @property    \n",
    "#     def T(self): #Транспонирование матрицы\n",
    "#         if isinstance(self, BandMatrix):\n",
    "            \n",
    "#             self._lower_diagonals, self._upper_diagonals = self._upper_diagonals, self._lower_diagonals\n",
    "            \n",
    "#             return self\n",
    "#         else: return NotImplemented\n",
    "        \n",
    "#     def __matmul__(self, other):\n",
    "#         if isinstance(self, BandMatrix) and isinstance(other, BandMatrix):\n",
    "            \n",
    "            \n",
    "            \n",
    "#         else: return NotImplemented\n",
    "\n",
    "        \n",
    "# a = BandMatrix(diagonal=[1,2,3,4], lower_diagonals=[[5,6,7],[8,9]], upper_diagonals=[[10,11,12]])\n",
    "# b = BandMatrix(diagonal=[1,1,1,1], lower_diagonals=[[2,2,2]])\n",
    "# display(a@b)\n",
    "# display(b)"
   ]
  },
  {
   "cell_type": "code",
   "execution_count": 249,
   "metadata": {},
   "outputs": [],
   "source": [
    "M = BlockMatrix([[[1, 0], [0, 1]], [[1], [0]], [[1, 0]], [0]], xblocks=2, yblocks=2)"
   ]
  },
  {
   "cell_type": "code",
   "execution_count": 250,
   "metadata": {},
   "outputs": [
    {
     "data": {
      "text/plain": [
       "(3, 3)"
      ]
     },
     "execution_count": 250,
     "metadata": {},
     "output_type": "execute_result"
    }
   ],
   "source": [
    "M.shape"
   ]
  },
  {
   "cell_type": "code",
   "execution_count": 263,
   "metadata": {},
   "outputs": [],
   "source": [
    "Q = BlockMatrix([[[1, 1, 1], [1, 1, 1], [1, 1, 1]]], xblocks=1, yblocks=1)"
   ]
  },
  {
   "cell_type": "code",
   "execution_count": 264,
   "metadata": {},
   "outputs": [
    {
     "data": {
      "text/plain": [
       "(3, 3)"
      ]
     },
     "execution_count": 264,
     "metadata": {},
     "output_type": "execute_result"
    }
   ],
   "source": [
    "Q.shape"
   ]
  },
  {
   "cell_type": "markdown",
   "metadata": {},
   "source": [
    "# Part 3 (back to Poisson equation)"
   ]
  },
  {
   "cell_type": "markdown",
   "metadata": {},
   "source": [
    "Матрица оператора Пуассона блочная трехдиагональная, если не считать две субдиагонали на самых краях. Сначала можно решить задачу без них, а затем воспользоваться формулой Шермана-Моррисона-Вудбери: $$(A+UV^T)^{-1} = A^{-1} - A^{-1}U(I + V^T A^{-1} U)^{-1} V^T A^{-1}$$\n",
    "Здесь матрица $A$ для оператора Пуассона без субдиагоналей, а с помощью $U V^T$ происходит добавление нужных нам диагоналей. "
   ]
  },
  {
   "cell_type": "code",
   "execution_count": null,
   "metadata": {},
   "outputs": [],
   "source": []
  }
 ],
 "metadata": {
  "kernelspec": {
   "display_name": "Python 3",
   "language": "python",
   "name": "python3"
  },
  "language_info": {
   "codemirror_mode": {
    "name": "ipython",
    "version": 3
   },
   "file_extension": ".py",
   "mimetype": "text/x-python",
   "name": "python",
   "nbconvert_exporter": "python",
   "pygments_lexer": "ipython3",
   "version": "3.8.3"
  }
 },
 "nbformat": 4,
 "nbformat_minor": 4
}
