{
 "cells": [
  {
   "cell_type": "code",
   "execution_count": 34,
   "metadata": {},
   "outputs": [],
   "source": [
    "import numpy as np\n",
    "import numba as nb\n",
    "import math as mt\n",
    "import copy\n",
    "import timeit\n",
    "from numba import prange"
   ]
  },
  {
   "cell_type": "code",
   "execution_count": 20,
   "metadata": {},
   "outputs": [
    {
     "name": "stdout",
     "output_type": "stream",
     "text": [
      "(10, 1000)\n",
      "(1000, 10)\n",
      "(10, 1000)\n"
     ]
    }
   ],
   "source": [
    "N = 10\n",
    "K = 1000\n",
    "M = 10\n",
    "A = np.arange(N*K).astype(np.float64)\n",
    "A = A.reshape(N,K)\n",
    "B = np.arange(K*M).astype(np.float64)\n",
    "B = B.reshape(K,M)\n",
    "BT = np.ascontiguousarray(B.T)\n",
    "print(A.shape)\n",
    "print(B.shape)\n",
    "print(BT.shape)"
   ]
  },
  {
   "cell_type": "code",
   "execution_count": 21,
   "metadata": {
    "scrolled": true
   },
   "outputs": [],
   "source": [
    "def product(A,B):\n",
    "    N = A.shape[0]\n",
    "    K = A.shape[1]\n",
    "    M = B.shape[1]\n",
    "    #print(N, M, K)\n",
    "    C = np.empty(shape=[N,M])\n",
    "    for i in range(N):\n",
    "        for j in range(M):\n",
    "            buf = 0\n",
    "            for k in range(K):\n",
    "                buf = buf + A[i][k] * B[k][j]\n",
    "            C[i][j] = buf\n",
    "    return C\n",
    "\n",
    "def productT(A,B):\n",
    "    N = A.shape[0]\n",
    "    K = A.shape[1]\n",
    "    M = B.shape[0]\n",
    "    C = np.empty(shape=[N,M])\n",
    "    for i in range(N):\n",
    "        for j in range(M):\n",
    "            buf = 0\n",
    "            for k in range(K):\n",
    "                buf = buf + A[i][k] * B[j][k]\n",
    "            C[i][j] = buf\n",
    "    return C\n"
   ]
  },
  {
   "cell_type": "code",
   "execution_count": 23,
   "metadata": {},
   "outputs": [
    {
     "name": "stdout",
     "output_type": "stream",
     "text": [
      "83.4 ms ± 4.2 ms per loop (mean ± std. dev. of 7 runs, 10 loops each)\n",
      "73.8 ms ± 550 µs per loop (mean ± std. dev. of 7 runs, 10 loops each)\n"
     ]
    }
   ],
   "source": [
    "%timeit product(A,B)\n",
    "%timeit productT(A,BT)"
   ]
  },
  {
   "cell_type": "code",
   "execution_count": 24,
   "metadata": {},
   "outputs": [
    {
     "name": "stdout",
     "output_type": "stream",
     "text": [
      "111 µs ± 8.1 µs per loop (mean ± std. dev. of 7 runs, 10000 loops each)\n",
      "99.9 µs ± 159 ns per loop (mean ± std. dev. of 7 runs, 10000 loops each)\n"
     ]
    }
   ],
   "source": [
    "@nb.njit(nb.float64[:,::1](nb.float64[:,::1],nb.float64[:,::1]))\n",
    "def NBproduct(A,B):\n",
    "    N = A.shape[0]\n",
    "    K = A.shape[1]\n",
    "    M = B.shape[1]\n",
    "    C = np.empty(shape=(N,M), dtype=np.float64)\n",
    "    for i in range(N):\n",
    "        for j in range(M):\n",
    "            buf = 0\n",
    "            for k in range(K):\n",
    "                buf = buf + A[i][k] * B[k][j]\n",
    "            C[i][j] = buf\n",
    "    return C\n",
    "\n",
    "@nb.njit(nb.float64[:,::1](nb.float64[:,::1],nb.float64[:,::1]))\n",
    "def NBproductT(A,B):\n",
    "    N = A.shape[0]\n",
    "    K = A.shape[1]\n",
    "    M = B.shape[0]\n",
    "    C = np.empty(shape=(N,M), dtype=np.float64)\n",
    "    for i in range(N):\n",
    "        for j in range(M):\n",
    "            buf = 0\n",
    "            for k in range(K):\n",
    "                buf = buf + A[i][k] * B[j][k]\n",
    "            C[i][j] = buf\n",
    "    return C\n",
    "\n",
    "%timeit NBproduct(A,B)\n",
    "%timeit NBproductT(A,BT)"
   ]
  },
  {
   "cell_type": "code",
   "execution_count": 25,
   "metadata": {},
   "outputs": [
    {
     "name": "stdout",
     "output_type": "stream",
     "text": [
      "8.08 µs ± 550 ns per loop (mean ± std. dev. of 7 runs, 100000 loops each)\n"
     ]
    }
   ],
   "source": [
    "%timeit A@B"
   ]
  },
  {
   "cell_type": "code",
   "execution_count": 29,
   "metadata": {},
   "outputs": [],
   "source": [
    "def productIJK(A,B):\n",
    "    N = A.shape[0]\n",
    "    K = A.shape[1]\n",
    "    M = B.shape[1]\n",
    "    C = np.empty(shape=[N,M])\n",
    "    for i in range(N):\n",
    "        for j in range(M):\n",
    "            buf = 0\n",
    "            for k in range(K):\n",
    "                buf = buf + A[i][k] * B[k][j]\n",
    "            C[i][j] = buf\n",
    "    return C\n",
    "\n",
    "def productJIK(A,B):\n",
    "    N = A.shape[0]\n",
    "    K = A.shape[1]\n",
    "    M = B.shape[1]\n",
    "    C = np.empty(shape=[N,M])\n",
    "    for j in range(M):\n",
    "        for i in range(N):\n",
    "            buf = 0\n",
    "            for k in range(K):\n",
    "                buf = buf + A[i][k] * B[k][j]\n",
    "            C[i][j] = buf\n",
    "    return C\n",
    "\n",
    "def productIKJ(A,B):\n",
    "    N = A.shape[0]\n",
    "    K = A.shape[1]\n",
    "    M = B.shape[1]\n",
    "    C = np.empty(shape=[N,M])\n",
    "    for i in range(N):\n",
    "        for k in range(K):\n",
    "            buf = 0\n",
    "            for j in range(M):\n",
    "                buf = buf + A[i][k] * B[k][j]\n",
    "            C[i][j] = buf\n",
    "    return C\n",
    "\n",
    "def productJKI(A,B):\n",
    "    N = A.shape[0]\n",
    "    K = A.shape[1]\n",
    "    M = B.shape[1]\n",
    "    C = np.empty(shape=[N,M])\n",
    "    for j in range(M):\n",
    "        for k in range(K):\n",
    "            buf = 0\n",
    "            for i in range(N):\n",
    "                buf = buf + A[i][k] * B[k][j]\n",
    "            C[i][j] = buf\n",
    "    return C\n",
    "\n",
    "def productKIJ(A,B):\n",
    "    N = A.shape[0]\n",
    "    K = A.shape[1]\n",
    "    M = B.shape[1]\n",
    "    C = np.empty(shape=[N,M])\n",
    "    for k in range(K):\n",
    "        for i in range(N):\n",
    "            buf = 0\n",
    "            for j in range(M):\n",
    "                buf = buf + A[i][k] * B[k][j]\n",
    "            C[i][j] = buf\n",
    "    return C\n",
    "\n",
    "def productKJI(A,B):\n",
    "    N = A.shape[0]\n",
    "    K = A.shape[1]\n",
    "    M = B.shape[1]\n",
    "    C = np.empty(shape=[N,M])\n",
    "    for k in range(K):\n",
    "        for j in range(M):\n",
    "            buf = 0\n",
    "            for i in range(N):\n",
    "                buf = buf + A[i][k] * B[k][j]\n",
    "            C[i][j] = buf\n",
    "    return C"
   ]
  },
  {
   "cell_type": "code",
   "execution_count": 30,
   "metadata": {},
   "outputs": [
    {
     "name": "stdout",
     "output_type": "stream",
     "text": [
      "79.6 ms ± 4.13 ms per loop (mean ± std. dev. of 7 runs, 10 loops each)\n",
      "74.6 ms ± 403 µs per loop (mean ± std. dev. of 7 runs, 10 loops each)\n",
      "87 ms ± 4.37 ms per loop (mean ± std. dev. of 7 runs, 10 loops each)\n",
      "91.9 ms ± 6.16 ms per loop (mean ± std. dev. of 7 runs, 10 loops each)\n",
      "98.5 ms ± 6.01 ms per loop (mean ± std. dev. of 7 runs, 10 loops each)\n",
      "94.2 ms ± 7.22 ms per loop (mean ± std. dev. of 7 runs, 10 loops each)\n"
     ]
    }
   ],
   "source": [
    "%timeit productIJK(A,B)\n",
    "%timeit productJIK(A,B)\n",
    "%timeit productIKJ(A,B)\n",
    "%timeit productJKI(A,B)\n",
    "%timeit productKIJ(A,B)\n",
    "%timeit productKJI(A,B)"
   ]
  },
  {
   "cell_type": "code",
   "execution_count": 38,
   "metadata": {},
   "outputs": [],
   "source": [
    "@nb.njit(nb.float64[:,::1](nb.float64[:,::1],nb.float64[:,::1]))\n",
    "def NproductIJK(A,B):\n",
    "    N = A.shape[0]\n",
    "    K = A.shape[1]\n",
    "    M = B.shape[1]\n",
    "    C = np.empty(shape=(N,M), dtype=np.float64)\n",
    "    for i in prange(N):\n",
    "        for j in prange(M):\n",
    "            buf = 0\n",
    "            for k in prange(K):\n",
    "                buf = buf + A[i][k] * B[k][j]\n",
    "            C[i][j] = buf\n",
    "    return C\n",
    "\n",
    "@nb.njit(nb.float64[:,::1](nb.float64[:,::1],nb.float64[:,::1]))\n",
    "def NproductJIK(A,B):\n",
    "    N = A.shape[0]\n",
    "    K = A.shape[1]\n",
    "    M = B.shape[1]\n",
    "    C = np.empty(shape=(N,M), dtype=np.float64)\n",
    "    for j in prange(M):\n",
    "        for i in prange(N):\n",
    "            buf = 0\n",
    "            for k in prange(K):\n",
    "                buf = buf + A[i][k] * B[k][j]\n",
    "            C[i][j] = buf\n",
    "    return C\n",
    "\n",
    "@nb.njit(nb.float64[:,::1](nb.float64[:,::1],nb.float64[:,::1]))\n",
    "def NproductIKJ(A,B):\n",
    "    N = A.shape[0]\n",
    "    K = A.shape[1]\n",
    "    M = B.shape[1]\n",
    "    C = np.empty(shape=(N,M), dtype=np.float64)\n",
    "    for i in prange(N):\n",
    "        for k in prange(K):\n",
    "            buf = 0\n",
    "            for j in prange(M):\n",
    "                buf = buf + A[i][k] * B[k][j]\n",
    "            C[i][j] = buf\n",
    "    return C\n",
    "\n",
    "@nb.njit(nb.float64[:,::1](nb.float64[:,::1],nb.float64[:,::1]))\n",
    "def NproductJKI(A,B):\n",
    "    N = A.shape[0]\n",
    "    K = A.shape[1]\n",
    "    M = B.shape[1]\n",
    "    C = np.empty(shape=(N,M), dtype=np.float64)\n",
    "    for j in prange(M):\n",
    "        for k in prange(K):\n",
    "            buf = 0\n",
    "            for i in prange(N):\n",
    "                buf = buf + A[i][k] * B[k][j]\n",
    "            C[i][j] = buf\n",
    "    return C\n",
    "\n",
    "@nb.njit(nb.float64[:,::1](nb.float64[:,::1],nb.float64[:,::1]))\n",
    "def NproductKIJ(A,B):\n",
    "    N = A.shape[0]\n",
    "    K = A.shape[1]\n",
    "    M = B.shape[1]\n",
    "    C = np.empty(shape=(N,M), dtype=np.float64)\n",
    "    for k in prange(K):\n",
    "        for i in prange(N):\n",
    "            buf = 0\n",
    "            for j in prange(M):\n",
    "                buf = buf + A[i][k] * B[k][j]\n",
    "            C[i][j] = buf\n",
    "    return C\n",
    "\n",
    "@nb.njit(nb.float64[:,::1](nb.float64[:,::1],nb.float64[:,::1]))\n",
    "def NproductKJI(A,B):\n",
    "    N = A.shape[0]\n",
    "    K = A.shape[1]\n",
    "    M = B.shape[1]\n",
    "    C = np.empty(shape=(N,M), dtype=np.float64)\n",
    "    for k in prange(K):\n",
    "        for j in prange(M):\n",
    "            buf = 0\n",
    "            for i in prange(N):\n",
    "                buf = buf + A[i][k] * B[k][j]\n",
    "            C[i][j] = buf\n",
    "    return C"
   ]
  },
  {
   "cell_type": "code",
   "execution_count": 39,
   "metadata": {},
   "outputs": [
    {
     "name": "stdout",
     "output_type": "stream",
     "text": [
      "105 µs ± 3.47 µs per loop (mean ± std. dev. of 7 runs, 10000 loops each)\n",
      "101 µs ± 948 ns per loop (mean ± std. dev. of 7 runs, 10000 loops each)\n",
      "44.8 µs ± 95.9 ns per loop (mean ± std. dev. of 7 runs, 10000 loops each)\n",
      "62 µs ± 4.24 µs per loop (mean ± std. dev. of 7 runs, 10000 loops each)\n",
      "59.8 µs ± 289 ns per loop (mean ± std. dev. of 7 runs, 10000 loops each)\n",
      "51.5 µs ± 103 ns per loop (mean ± std. dev. of 7 runs, 10000 loops each)\n"
     ]
    }
   ],
   "source": [
    "%timeit NproductIJK(A,B)\n",
    "%timeit NproductJIK(A,B)\n",
    "%timeit NproductIKJ(A,B)\n",
    "%timeit NproductJKI(A,B)\n",
    "%timeit NproductKIJ(A,B)\n",
    "%timeit NproductKJI(A,B)"
   ]
  },
  {
   "cell_type": "code",
   "execution_count": 40,
   "metadata": {},
   "outputs": [],
   "source": [
    "def Strassen(A,B):\n",
    "    if (A.shape[0] != A.shape[1]) & (B.shape[0] != B.shape[1]) & (A.shape[0] != B.shape[0]):\n",
    "        print(\"Not a square matrix\")\n",
    "        return\n",
    "    N = A.shape[0]\n",
    "    if N>=64:\n",
    "        return A@B\n",
    "    p = mt.ceil(mt.log2(N))\n",
    "    dim = 2**p\n",
    "    A2 = A\n",
    "    B2 = B\n",
    "    delta = dim - N\n",
    "    for i in range(delta):\n",
    "        adh = np.zeros((N,1))\n",
    "        A2 = np.hstack((A2, adh))\n",
    "        B2 = np.hstack((B2, adh))\n",
    "    for i in range(delta):\n",
    "        adv = np.zeros((1,dim))\n",
    "        A2 = np.vstack((A2,adv))\n",
    "        B2 = np.vstack((B2,adv))\n",
    "    half = (2**(p-1))\n",
    "    A11 = A2[:half,:half]\n",
    "    A12 = A2[:half,half:]\n",
    "    A21 = A2[half:,:half]\n",
    "    A22 = A2[half:,half:]\n",
    "    B11 = B2[:half,:half]\n",
    "    B12 = B2[:half,half:]\n",
    "    B21 = B2[half:,:half]\n",
    "    B22 = B2[half:,half:]\n",
    "    P1 = Strassen((A11 + A22), (B11 + B22))\n",
    "    P2 = Strassen((A21 + A22), B11)\n",
    "    P3 = Strassen(A11, (B12 - B22))\n",
    "    P4 = Strassen(A22, (B21 - B11))\n",
    "    P5 = Strassen((A11 + A12), B22)\n",
    "    P6 = Strassen((A21 - A11), (B11 + B12))\n",
    "    P7 = Strassen((A12 - A22), (B21 + B22))\n",
    "    C11 = P1 + P4 - P5 + P7\n",
    "    C12 = P3 + P5\n",
    "    C21 = P2 + P4\n",
    "    C22 = P1 - P2 + P3 + P6\n",
    "    C1 = np.hstack((C11,C12))\n",
    "    C2 = np.hstack((C21,C22))\n",
    "    C = np.vstack((C1,C2))\n",
    "    C = C[:N,:N]\n",
    "    return C"
   ]
  },
  {
   "cell_type": "code",
   "execution_count": 41,
   "metadata": {},
   "outputs": [],
   "source": [
    "N = 100\n",
    "C = np.random.sample((N,N))\n",
    "D = np.random.sample((N,N))"
   ]
  },
  {
   "cell_type": "code",
   "execution_count": 42,
   "metadata": {},
   "outputs": [
    {
     "name": "stdout",
     "output_type": "stream",
     "text": [
      "29.9 µs ± 3.43 µs per loop (mean ± std. dev. of 7 runs, 10000 loops each)\n",
      "26.2 µs ± 998 ns per loop (mean ± std. dev. of 7 runs, 10000 loops each)\n"
     ]
    }
   ],
   "source": [
    "%timeit Strassen(D,D)\n",
    "%timeit C@D"
   ]
  },
  {
   "cell_type": "code",
   "execution_count": null,
   "metadata": {},
   "outputs": [],
   "source": []
  }
 ],
 "metadata": {
  "kernelspec": {
   "display_name": "Python 3",
   "language": "python",
   "name": "python3"
  },
  "language_info": {
   "codemirror_mode": {
    "name": "ipython",
    "version": 3
   },
   "file_extension": ".py",
   "mimetype": "text/x-python",
   "name": "python",
   "nbconvert_exporter": "python",
   "pygments_lexer": "ipython3",
   "version": "3.8.3"
  }
 },
 "nbformat": 4,
 "nbformat_minor": 4
}
