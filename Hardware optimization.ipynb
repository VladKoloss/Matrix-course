{
 "cells": [
  {
   "cell_type": "code",
   "execution_count": 1,
   "metadata": {},
   "outputs": [],
   "source": [
    "import numpy as np\n",
    "import numba as nb\n",
    "import math as mt\n",
    "import copy\n",
    "import timeit\n",
    "from numba import prange\n",
    "import time"
   ]
  },
  {
   "cell_type": "code",
   "execution_count": 2,
   "metadata": {},
   "outputs": [
    {
     "name": "stdout",
     "output_type": "stream",
     "text": [
      "(10, 1000)\n",
      "(1000, 10)\n",
      "(10, 1000)\n"
     ]
    }
   ],
   "source": [
    "N = 10\n",
    "K = 1000\n",
    "M = 10\n",
    "A = np.arange(N*K).astype(np.float64)\n",
    "A = A.reshape(N,K)\n",
    "B = np.arange(K*M).astype(np.float64)\n",
    "B = B.reshape(K,M)\n",
    "BT = np.ascontiguousarray(B.T)\n",
    "print(A.shape)\n",
    "print(B.shape)\n",
    "print(BT.shape)"
   ]
  },
  {
   "cell_type": "code",
   "execution_count": 3,
   "metadata": {
    "scrolled": true
   },
   "outputs": [],
   "source": [
    "def product(A,B):\n",
    "    N = A.shape[0]\n",
    "    K = A.shape[1]\n",
    "    M = B.shape[1]\n",
    "    #print(N, M, K)\n",
    "    C = np.empty(shape=[N,M])\n",
    "    for i in range(N):\n",
    "        for j in range(M):\n",
    "            buf = 0\n",
    "            for k in range(K):\n",
    "                buf = buf + A[i][k] * B[k][j]\n",
    "            C[i][j] = buf\n",
    "    return C\n",
    "\n",
    "def productT(A,B):\n",
    "    N = A.shape[0]\n",
    "    K = A.shape[1]\n",
    "    M = B.shape[0]\n",
    "    C = np.empty(shape=[N,M])\n",
    "    for i in range(N):\n",
    "        for j in range(M):\n",
    "            buf = 0\n",
    "            for k in range(K):\n",
    "                buf = buf + A[i][k] * B[j][k]\n",
    "            C[i][j] = buf\n",
    "    return C\n"
   ]
  },
  {
   "cell_type": "code",
   "execution_count": 68,
   "metadata": {},
   "outputs": [],
   "source": [
    "def f_time(func, args=(), kwargs={}, N=10000):\n",
    "    start_time = time.process_time_ns()\n",
    "    for i in range(N):\n",
    "        func(*args, **kwargs)\n",
    "    elapsed_time = time.process_time_ns() - start_time\n",
    "    return elapsed_time/N"
   ]
  },
  {
   "cell_type": "code",
   "execution_count": 5,
   "metadata": {},
   "outputs": [
    {
     "data": {
      "text/plain": [
       "16.78125"
      ]
     },
     "execution_count": 5,
     "metadata": {},
     "output_type": "execute_result"
    }
   ],
   "source": [
    "f_time(product,(A,B))/10e+06"
   ]
  },
  {
   "cell_type": "code",
   "execution_count": 6,
   "metadata": {},
   "outputs": [],
   "source": [
    "N = 100\n",
    "C = np.random.sample((N,N))\n",
    "D = np.random.sample((N,N))"
   ]
  },
  {
   "cell_type": "code",
   "execution_count": 7,
   "metadata": {},
   "outputs": [
    {
     "data": {
      "text/plain": [
       "0.21875"
      ]
     },
     "execution_count": 7,
     "metadata": {},
     "output_type": "execute_result"
    }
   ],
   "source": [
    "start_time = time.process_time()\n",
    "product(A,B)\n",
    "elapsed_time = time.process_time() - start_time\n",
    "elapsed_time"
   ]
  },
  {
   "cell_type": "code",
   "execution_count": 8,
   "metadata": {},
   "outputs": [
    {
     "name": "stdout",
     "output_type": "stream",
     "text": [
      "172 ms ± 17.2 ms per loop (mean ± std. dev. of 7 runs, 1 loop each)\n",
      "160 ms ± 3.68 ms per loop (mean ± std. dev. of 7 runs, 10 loops each)\n"
     ]
    }
   ],
   "source": [
    "%timeit product(A,B)\n",
    "%timeit productT(A,BT)"
   ]
  },
  {
   "cell_type": "code",
   "execution_count": 9,
   "metadata": {},
   "outputs": [
    {
     "name": "stdout",
     "output_type": "stream",
     "text": [
      "228 µs ± 33.1 µs per loop (mean ± std. dev. of 7 runs, 1000 loops each)\n",
      "179 µs ± 10.1 µs per loop (mean ± std. dev. of 7 runs, 10000 loops each)\n"
     ]
    }
   ],
   "source": [
    "@nb.njit(nb.float64[:,::1](nb.float64[:,::1],nb.float64[:,::1]))\n",
    "def NBproduct(A,B):\n",
    "    N = A.shape[0]\n",
    "    K = A.shape[1]\n",
    "    M = B.shape[1]\n",
    "    C = np.empty(shape=(N,M), dtype=np.float64)\n",
    "    for i in range(N):\n",
    "        for j in range(M):\n",
    "            buf = 0\n",
    "            for k in range(K):\n",
    "                buf = buf + A[i][k] * B[k][j]\n",
    "            C[i][j] = buf\n",
    "    return C\n",
    "\n",
    "@nb.njit(nb.float64[:,::1](nb.float64[:,::1],nb.float64[:,::1]))\n",
    "def NBproductT(A,B):\n",
    "    N = A.shape[0]\n",
    "    K = A.shape[1]\n",
    "    M = B.shape[0]\n",
    "    C = np.empty(shape=(N,M), dtype=np.float64)\n",
    "    for i in range(N):\n",
    "        for j in range(M):\n",
    "            buf = 0\n",
    "            for k in range(K):\n",
    "                buf = buf + A[i][k] * B[j][k]\n",
    "            C[i][j] = buf\n",
    "    return C\n",
    "\n",
    "%timeit NBproduct(A,B)\n",
    "%timeit NBproductT(A,BT)"
   ]
  },
  {
   "cell_type": "code",
   "execution_count": 10,
   "metadata": {},
   "outputs": [
    {
     "name": "stdout",
     "output_type": "stream",
     "text": [
      "19.9 µs ± 3.69 µs per loop (mean ± std. dev. of 7 runs, 10000 loops each)\n"
     ]
    }
   ],
   "source": [
    "%timeit A@B"
   ]
  },
  {
   "cell_type": "code",
   "execution_count": 11,
   "metadata": {},
   "outputs": [],
   "source": [
    "def productIJK(A,B):\n",
    "    N = A.shape[0]\n",
    "    K = A.shape[1]\n",
    "    M = B.shape[1]\n",
    "    C = np.empty(shape=[N,M])\n",
    "    for i in range(N):\n",
    "        for j in range(M):\n",
    "            buf = 0\n",
    "            for k in range(K):\n",
    "                buf = buf + A[i][k] * B[k][j]\n",
    "            C[i][j] = buf\n",
    "    return C\n",
    "\n",
    "def productJIK(A,B):\n",
    "    N = A.shape[0]\n",
    "    K = A.shape[1]\n",
    "    M = B.shape[1]\n",
    "    C = np.empty(shape=[N,M])\n",
    "    for j in range(M):\n",
    "        for i in range(N):\n",
    "            buf = 0\n",
    "            for k in range(K):\n",
    "                buf = buf + A[i][k] * B[k][j]\n",
    "            C[i][j] = buf\n",
    "    return C\n",
    "\n",
    "def productIKJ(A,B):\n",
    "    N = A.shape[0]\n",
    "    K = A.shape[1]\n",
    "    M = B.shape[1]\n",
    "    C = np.empty(shape=[N,M])\n",
    "    for i in range(N):\n",
    "        for k in range(K):\n",
    "            buf = 0\n",
    "            for j in range(M):\n",
    "                buf = buf + A[i][k] * B[k][j]\n",
    "            C[i][j] = buf\n",
    "    return C\n",
    "\n",
    "def productJKI(A,B):\n",
    "    N = A.shape[0]\n",
    "    K = A.shape[1]\n",
    "    M = B.shape[1]\n",
    "    C = np.empty(shape=[N,M])\n",
    "    for j in range(M):\n",
    "        for k in range(K):\n",
    "            buf = 0\n",
    "            for i in range(N):\n",
    "                buf = buf + A[i][k] * B[k][j]\n",
    "            C[i][j] = buf\n",
    "    return C\n",
    "\n",
    "def productKIJ(A,B):\n",
    "    N = A.shape[0]\n",
    "    K = A.shape[1]\n",
    "    M = B.shape[1]\n",
    "    C = np.empty(shape=[N,M])\n",
    "    for k in range(K):\n",
    "        for i in range(N):\n",
    "            buf = 0\n",
    "            for j in range(M):\n",
    "                buf = buf + A[i][k] * B[k][j]\n",
    "            C[i][j] = buf\n",
    "    return C\n",
    "\n",
    "def productKJI(A,B):\n",
    "    N = A.shape[0]\n",
    "    K = A.shape[1]\n",
    "    M = B.shape[1]\n",
    "    C = np.empty(shape=[N,M])\n",
    "    for k in range(K):\n",
    "        for j in range(M):\n",
    "            buf = 0\n",
    "            for i in range(N):\n",
    "                buf = buf + A[i][k] * B[k][j]\n",
    "            C[i][j] = buf\n",
    "    return C"
   ]
  },
  {
   "cell_type": "code",
   "execution_count": 12,
   "metadata": {},
   "outputs": [
    {
     "name": "stdout",
     "output_type": "stream",
     "text": [
      "1.65 s ± 62.3 ms per loop (mean ± std. dev. of 7 runs, 1 loop each)\n",
      "1.66 s ± 94.4 ms per loop (mean ± std. dev. of 7 runs, 1 loop each)\n",
      "1.57 s ± 56.6 ms per loop (mean ± std. dev. of 7 runs, 1 loop each)\n",
      "1.67 s ± 57.2 ms per loop (mean ± std. dev. of 7 runs, 1 loop each)\n",
      "1.66 s ± 81.1 ms per loop (mean ± std. dev. of 7 runs, 1 loop each)\n",
      "1.67 s ± 76 ms per loop (mean ± std. dev. of 7 runs, 1 loop each)\n"
     ]
    }
   ],
   "source": [
    "%timeit productIJK(C,D)\n",
    "%timeit productJIK(C,D)\n",
    "%timeit productIKJ(C,D)\n",
    "%timeit productJKI(C,D)\n",
    "%timeit productKIJ(C,D)\n",
    "%timeit productKJI(C,D)"
   ]
  },
  {
   "cell_type": "code",
   "execution_count": 13,
   "metadata": {},
   "outputs": [],
   "source": [
    "@nb.njit(nb.float64[:,::1](nb.float64[:,::1],nb.float64[:,::1]), parallel=True)\n",
    "def NproductIJK(A,B):\n",
    "    N = A.shape[0]\n",
    "    K = A.shape[1]\n",
    "    M = B.shape[1]\n",
    "    C = np.empty(shape=(N,M), dtype=np.float64)\n",
    "    for i in prange(N):\n",
    "        for j in range(M):\n",
    "            buf = 0\n",
    "            for k in range(K):\n",
    "                buf = buf + A[i][k] * B[k][j]\n",
    "            C[i][j] = buf\n",
    "    return C\n",
    "\n",
    "@nb.njit(nb.float64[:,::1](nb.float64[:,::1],nb.float64[:,::1]), parallel=True)\n",
    "def NproductJIK(A,B):\n",
    "    N = A.shape[0]\n",
    "    K = A.shape[1]\n",
    "    M = B.shape[1]\n",
    "    C = np.empty(shape=(N,M), dtype=np.float64)\n",
    "    for j in prange(M):\n",
    "        for i in range(N):\n",
    "            buf = 0\n",
    "            for k in range(K):\n",
    "                buf = buf + A[i][k] * B[k][j]\n",
    "            C[i][j] = buf\n",
    "    return C\n",
    "\n",
    "@nb.njit(nb.float64[:,::1](nb.float64[:,::1],nb.float64[:,::1]), parallel=True)\n",
    "def NproductIKJ(A,B):\n",
    "    N = A.shape[0]\n",
    "    K = A.shape[1]\n",
    "    M = B.shape[1]\n",
    "    C = np.empty(shape=(N,M), dtype=np.float64)\n",
    "    for i in prange(N):\n",
    "        for k in range(K):\n",
    "            buf = 0\n",
    "            for j in range(M):\n",
    "                buf = buf + A[i][k] * B[k][j]\n",
    "            C[i][j] = buf\n",
    "    return C\n",
    "\n",
    "@nb.njit(nb.float64[:,::1](nb.float64[:,::1],nb.float64[:,::1]), parallel=True)\n",
    "def NproductJKI(A,B):\n",
    "    N = A.shape[0]\n",
    "    K = A.shape[1]\n",
    "    M = B.shape[1]\n",
    "    C = np.empty(shape=(N,M), dtype=np.float64)\n",
    "    for j in prange(M):\n",
    "        for k in range(K):\n",
    "            buf = 0\n",
    "            for i in range(N):\n",
    "                buf = buf + A[i][k] * B[k][j]\n",
    "            C[i][j] = buf\n",
    "    return C\n",
    "\n",
    "@nb.njit(nb.float64[:,::1](nb.float64[:,::1],nb.float64[:,::1]), parallel=True)\n",
    "def NproductKIJ(A,B):\n",
    "    N = A.shape[0]\n",
    "    K = A.shape[1]\n",
    "    M = B.shape[1]\n",
    "    C = np.empty(shape=(N,M), dtype=np.float64)\n",
    "    for k in prange(K):\n",
    "        for i in range(N):\n",
    "            buf = 0\n",
    "            for j in range(M):\n",
    "                buf = buf + A[i][k] * B[k][j]\n",
    "            C[i][j] = buf\n",
    "    return C\n",
    "\n",
    "@nb.njit(nb.float64[:,::1](nb.float64[:,::1],nb.float64[:,::1]), parallel=True)\n",
    "def NproductKJI(A,B):\n",
    "    N = A.shape[0]\n",
    "    K = A.shape[1]\n",
    "    M = B.shape[1]\n",
    "    C = np.empty(shape=(N,M), dtype=np.float64)\n",
    "    for k in prange(K):\n",
    "        for j in range(M):\n",
    "            buf = 0\n",
    "            for i in range(N):\n",
    "                buf = buf + A[i][k] * B[k][j]\n",
    "            C[i][j] = buf\n",
    "    return C"
   ]
  },
  {
   "cell_type": "code",
   "execution_count": 14,
   "metadata": {},
   "outputs": [
    {
     "name": "stdout",
     "output_type": "stream",
     "text": [
      "3.71 ms ± 527 µs per loop (mean ± std. dev. of 7 runs, 1000 loops each)\n",
      "3.28 ms ± 401 µs per loop (mean ± std. dev. of 7 runs, 100 loops each)\n",
      "3.21 ms ± 300 µs per loop (mean ± std. dev. of 7 runs, 100 loops each)\n",
      "3.04 ms ± 214 µs per loop (mean ± std. dev. of 7 runs, 100 loops each)\n",
      "2.45 ms ± 158 µs per loop (mean ± std. dev. of 7 runs, 100 loops each)\n",
      "2.59 ms ± 140 µs per loop (mean ± std. dev. of 7 runs, 100 loops each)\n"
     ]
    }
   ],
   "source": [
    "%timeit NproductIJK(C,D)\n",
    "%timeit NproductJIK(C,D)\n",
    "%timeit NproductIKJ(C,D)\n",
    "%timeit NproductJKI(C,D)\n",
    "%timeit NproductKIJ(C,D)\n",
    "%timeit NproductKJI(C,D)"
   ]
  },
  {
   "cell_type": "code",
   "execution_count": 15,
   "metadata": {},
   "outputs": [
    {
     "name": "stdout",
     "output_type": "stream",
     "text": [
      "612 µs ± 66.7 µs per loop (mean ± std. dev. of 7 runs, 1000 loops each)\n",
      "951 µs ± 263 µs per loop (mean ± std. dev. of 7 runs, 1000 loops each)\n",
      "493 µs ± 19.9 µs per loop (mean ± std. dev. of 7 runs, 1000 loops each)\n",
      "474 µs ± 41.8 µs per loop (mean ± std. dev. of 7 runs, 1000 loops each)\n",
      "623 µs ± 51.2 µs per loop (mean ± std. dev. of 7 runs, 1000 loops each)\n",
      "359 µs ± 15.6 µs per loop (mean ± std. dev. of 7 runs, 1000 loops each)\n"
     ]
    }
   ],
   "source": [
    "%timeit NproductIJK(A,B)\n",
    "%timeit NproductJIK(A,B)\n",
    "%timeit NproductIKJ(A,B)\n",
    "%timeit NproductJKI(A,B)\n",
    "%timeit NproductKIJ(A,B)\n",
    "%timeit NproductKJI(A,B)"
   ]
  },
  {
   "cell_type": "code",
   "execution_count": 16,
   "metadata": {},
   "outputs": [],
   "source": [
    "def Strassen(A,B):\n",
    "    if (A.shape[0] != A.shape[1]) & (B.shape[0] != B.shape[1]) & (A.shape[0] != B.shape[0]):\n",
    "        print(\"Not a square matrix\")\n",
    "        return\n",
    "    N = A.shape[0]\n",
    "    if N>=64:\n",
    "        return A@B\n",
    "    p = mt.ceil(mt.log2(N))\n",
    "    dim = 2**p\n",
    "    A2 = A\n",
    "    B2 = B\n",
    "    delta = dim - N\n",
    "    for i in range(delta):\n",
    "        adh = np.zeros((N,1))\n",
    "        A2 = np.hstack((A2, adh))\n",
    "        B2 = np.hstack((B2, adh))\n",
    "    for i in range(delta):\n",
    "        adv = np.zeros((1,dim))\n",
    "        A2 = np.vstack((A2,adv))\n",
    "        B2 = np.vstack((B2,adv))\n",
    "    half = (2**(p-1))\n",
    "    A11 = A2[:half,:half]\n",
    "    A12 = A2[:half,half:]\n",
    "    A21 = A2[half:,:half]\n",
    "    A22 = A2[half:,half:]\n",
    "    B11 = B2[:half,:half]\n",
    "    B12 = B2[:half,half:]\n",
    "    B21 = B2[half:,:half]\n",
    "    B22 = B2[half:,half:]\n",
    "    P1 = Strassen((A11 + A22), (B11 + B22))\n",
    "    P2 = Strassen((A21 + A22), B11)\n",
    "    P3 = Strassen(A11, (B12 - B22))\n",
    "    P4 = Strassen(A22, (B21 - B11))\n",
    "    P5 = Strassen((A11 + A12), B22)\n",
    "    P6 = Strassen((A21 - A11), (B11 + B12))\n",
    "    P7 = Strassen((A12 - A22), (B21 + B22))\n",
    "    C11 = P1 + P4 - P5 + P7\n",
    "    C12 = P3 + P5\n",
    "    C21 = P2 + P4\n",
    "    C22 = P1 - P2 + P3 + P6\n",
    "    C1 = np.hstack((C11,C12))\n",
    "    C2 = np.hstack((C21,C22))\n",
    "    C = np.vstack((C1,C2))\n",
    "    C = C[:N,:N]\n",
    "    return C"
   ]
  },
  {
   "cell_type": "code",
   "execution_count": 17,
   "metadata": {},
   "outputs": [],
   "source": [
    "N = 100\n",
    "C = np.random.sample((N,N))\n",
    "D = np.random.sample((N,N))"
   ]
  },
  {
   "cell_type": "code",
   "execution_count": 18,
   "metadata": {},
   "outputs": [
    {
     "name": "stdout",
     "output_type": "stream",
     "text": [
      "70.2 µs ± 1.91 µs per loop (mean ± std. dev. of 7 runs, 10000 loops each)\n",
      "66.5 µs ± 2.16 µs per loop (mean ± std. dev. of 7 runs, 10000 loops each)\n"
     ]
    }
   ],
   "source": [
    "%timeit Strassen(D,D)\n",
    "%timeit C@D"
   ]
  },
  {
   "cell_type": "code",
   "execution_count": 19,
   "metadata": {},
   "outputs": [
    {
     "name": "stdout",
     "output_type": "stream",
     "text": [
      "Optimized definition\n",
      "1.77 s ± 447 ms per loop (mean ± std. dev. of 7 runs, 1 loop each)\n",
      "Optimized Numba with parallel computing\n",
      "481 µs ± 17.7 µs per loop (mean ± std. dev. of 7 runs, 1000 loops each)\n",
      "Strassen\n",
      "91.6 µs ± 20 µs per loop (mean ± std. dev. of 7 runs, 10000 loops each)\n",
      "Numpy\n",
      "72 µs ± 3.57 µs per loop (mean ± std. dev. of 7 runs, 10000 loops each)\n"
     ]
    }
   ],
   "source": [
    "# Итого по результатам\n",
    "print('Optimized definition')\n",
    "%timeit productIJK(C,D)\n",
    "print('Optimized Numba with parallel computing')\n",
    "%timeit NproductKIJ(C,D)\n",
    "print('Strassen')\n",
    "%timeit Strassen(C,D)\n",
    "print('Numpy')\n",
    "%timeit C@D"
   ]
  },
  {
   "cell_type": "code",
   "execution_count": 37,
   "metadata": {},
   "outputs": [],
   "source": [
    "@nb.njit(nb.float64(nb.float64[:],nb.float64[:]), parallel=True)\n",
    "def VNproductKIJ(A,B):\n",
    "    N = A.shape[0]\n",
    "    C = 0\n",
    "    for k in prange(N):\n",
    "        C += A[k]*B[k]\n",
    "    return C"
   ]
  },
  {
   "cell_type": "code",
   "execution_count": 38,
   "metadata": {},
   "outputs": [],
   "source": [
    "C = np.random.sample((10,))"
   ]
  },
  {
   "cell_type": "code",
   "execution_count": 40,
   "metadata": {},
   "outputs": [
    {
     "data": {
      "text/plain": [
       "10"
      ]
     },
     "execution_count": 40,
     "metadata": {},
     "output_type": "execute_result"
    }
   ],
   "source": [
    "C.shape[0]"
   ]
  },
  {
   "cell_type": "code",
   "execution_count": 75,
   "metadata": {},
   "outputs": [],
   "source": [
    "q = 1000\n",
    "t = np.zeros(q)\n",
    "for i in range(1,q+1):\n",
    "    C = None\n",
    "    D = None\n",
    "    C = np.random.sample((i,))\n",
    "    D = np.random.sample((i,))\n",
    "    t[i-1] = f_time(VNproductKIJ,(C,D))/10e+06"
   ]
  },
  {
   "cell_type": "code",
   "execution_count": 76,
   "metadata": {},
   "outputs": [
    {
     "data": {
      "text/plain": [
       "Text(0, 0.5, 'Time')"
      ]
     },
     "execution_count": 76,
     "metadata": {},
     "output_type": "execute_result"
    },
    {
     "data": {
      "image/png": "[encoded data removed]",
      "text/plain": [
       "<Figure size 432x288 with 1 Axes>"
      ]
     },
     "metadata": {
      "needs_background": "light"
     },
     "output_type": "display_data"
    }
   ],
   "source": [
    "niter = [i for i in range(1,q+1)]\n",
    "import matplotlib.pyplot as plt\n",
    "plt.plot(niter, t)\n",
    "plt.xlabel('N')\n",
    "plt.ylabel('Time')"
   ]
  },
  {
   "cell_type": "code",
   "execution_count": 87,
   "metadata": {},
   "outputs": [],
   "source": [
    "@nb.njit(nb.float64(nb.float64[:],nb.float64[:]))\n",
    "def VN1productKIJ(A,B):\n",
    "    N = A.shape[0]\n",
    "    C = 0\n",
    "    for k in range(N):\n",
    "        C += A[k]*B[k]\n",
    "    return C"
   ]
  },
  {
   "cell_type": "code",
   "execution_count": 88,
   "metadata": {},
   "outputs": [],
   "source": [
    "q = 100\n",
    "p = np.zeros(q)\n",
    "for i in range(1,q+1):\n",
    "    C = None\n",
    "    D = None\n",
    "    C = np.random.sample((i,))\n",
    "    D = np.random.sample((i,))\n",
    "    p[i-1] = f_time(VN1productKIJ,(C,D))/10e+06"
   ]
  },
  {
   "cell_type": "code",
   "execution_count": 89,
   "metadata": {},
   "outputs": [
    {
     "data": {
      "text/plain": [
       "Text(0, 0.5, 'Time')"
      ]
     },
     "execution_count": 89,
     "metadata": {},
     "output_type": "execute_result"
    },
    {
     "data": {
      "image/png": "[encoded data removed]",
      "text/plain": [
       "<Figure size 432x288 with 1 Axes>"
      ]
     },
     "metadata": {
      "needs_background": "light"
     },
     "output_type": "display_data"
    }
   ],
   "source": [
    "niter = [i for i in range(1,q+1)]\n",
    "import matplotlib.pyplot as plt\n",
    "plt.plot(niter, p)\n",
    "plt.xlabel('N')\n",
    "plt.ylabel('Time')"
   ]
  },
  {
   "cell_type": "code",
   "execution_count": null,
   "metadata": {},
   "outputs": [],
   "source": []
  }
 ],
 "metadata": {
  "kernelspec": {
   "display_name": "Python 3",
   "language": "python",
   "name": "python3"
  },
  "language_info": {
   "codemirror_mode": {
    "name": "ipython",
    "version": 3
   },
   "file_extension": ".py",
   "mimetype": "text/x-python",
   "name": "python",
   "nbconvert_exporter": "python",
   "pygments_lexer": "ipython3",
   "version": "3.8.3"
  }
 },
 "nbformat": 4,
 "nbformat_minor": 4
}
