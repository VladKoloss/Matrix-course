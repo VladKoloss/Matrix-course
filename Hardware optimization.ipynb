{
 "cells": [
  {
   "cell_type": "code",
   "execution_count": 1,
   "metadata": {},
   "outputs": [],
   "source": [
    "import numpy as np\n",
    "import numba as nb\n",
    "import math as mt\n",
    "import copy\n",
    "import timeit\n",
    "from numba import prange\n",
    "import time"
   ]
  },
  {
   "cell_type": "code",
   "execution_count": 2,
   "metadata": {},
   "outputs": [
    {
     "name": "stdout",
     "output_type": "stream",
     "text": [
      "(10, 1000)\n",
      "(1000, 10)\n",
      "(10, 1000)\n"
     ]
    }
   ],
   "source": [
    "N = 10\n",
    "K = 1000\n",
    "M = 10\n",
    "A = np.arange(N*K).astype(np.float64)\n",
    "A = A.reshape(N,K)\n",
    "B = np.arange(K*M).astype(np.float64)\n",
    "B = B.reshape(K,M)\n",
    "BT = np.ascontiguousarray(B.T)\n",
    "print(A.shape)\n",
    "print(B.shape)\n",
    "print(BT.shape)"
   ]
  },
  {
   "cell_type": "code",
   "execution_count": 3,
   "metadata": {
    "scrolled": true
   },
   "outputs": [],
   "source": [
    "def product(A,B):\n",
    "    N = A.shape[0]\n",
    "    K = A.shape[1]\n",
    "    M = B.shape[1]\n",
    "    #print(N, M, K)\n",
    "    C = np.empty(shape=[N,M])\n",
    "    for i in range(N):\n",
    "        for j in range(M):\n",
    "            buf = 0\n",
    "            for k in range(K):\n",
    "                buf = buf + A[i][k] * B[k][j]\n",
    "            C[i][j] = buf\n",
    "    return C\n",
    "\n",
    "def productT(A,B):\n",
    "    N = A.shape[0]\n",
    "    K = A.shape[1]\n",
    "    M = B.shape[0]\n",
    "    C = np.empty(shape=[N,M])\n",
    "    for i in range(N):\n",
    "        for j in range(M):\n",
    "            buf = 0\n",
    "            for k in range(K):\n",
    "                buf = buf + A[i][k] * B[j][k]\n",
    "            C[i][j] = buf\n",
    "    return C\n"
   ]
  },
  {
   "cell_type": "code",
   "execution_count": 107,
   "metadata": {},
   "outputs": [],
   "source": [
    "def f_time(func, args=(), kwargs={}, N=500):\n",
    "    start_time = time.process_time_ns()\n",
    "    for i in range(N):\n",
    "        func(*args, **kwargs)\n",
    "    elapsed_time = time.process_time_ns() - start_time\n",
    "    return elapsed_time/N"
   ]
  },
  {
   "cell_type": "code",
   "execution_count": 34,
   "metadata": {},
   "outputs": [
    {
     "data": {
      "text/plain": [
       "9.375"
      ]
     },
     "execution_count": 34,
     "metadata": {},
     "output_type": "execute_result"
    }
   ],
   "source": [
    "f_time(product,(A,B))/10e+06"
   ]
  },
  {
   "cell_type": "code",
   "execution_count": 5,
   "metadata": {},
   "outputs": [
    {
     "data": {
      "text/plain": [
       "0.00903125"
      ]
     },
     "execution_count": 5,
     "metadata": {},
     "output_type": "execute_result"
    }
   ],
   "source": [
    "N = 100\n",
    "C = np.random.sample((N,N))\n",
    "D = np.random.sample((N,N))"
   ]
  },
  {
   "cell_type": "code",
   "execution_count": 6,
   "metadata": {},
   "outputs": [
    {
     "data": {
      "text/plain": [
       "0.09375"
      ]
     },
     "execution_count": 6,
     "metadata": {},
     "output_type": "execute_result"
    }
   ],
   "source": [
    "start_time = time.process_time()\n",
    "product(A,B)\n",
    "elapsed_time = time.process_time() - start_time\n",
    "elapsed_time"
   ]
  },
  {
   "cell_type": "code",
   "execution_count": 7,
   "metadata": {},
   "outputs": [
    {
     "name": "stdout",
     "output_type": "stream",
     "text": [
      "89.9 ms ± 5.03 ms per loop (mean ± std. dev. of 7 runs, 10 loops each)\n",
      "82.9 ms ± 1.07 ms per loop (mean ± std. dev. of 7 runs, 10 loops each)\n"
     ]
    }
   ],
   "source": [
    "%timeit product(A,B)\n",
    "%timeit productT(A,BT)"
   ]
  },
  {
   "cell_type": "code",
   "execution_count": 8,
   "metadata": {},
   "outputs": [
    {
     "name": "stdout",
     "output_type": "stream",
     "text": [
      "112 µs ± 7.49 µs per loop (mean ± std. dev. of 7 runs, 10000 loops each)\n",
      "115 µs ± 5.89 µs per loop (mean ± std. dev. of 7 runs, 10000 loops each)\n"
     ]
    }
   ],
   "source": [
    "@nb.njit(nb.float64[:,::1](nb.float64[:,::1],nb.float64[:,::1]))\n",
    "def NBproduct(A,B):\n",
    "    N = A.shape[0]\n",
    "    K = A.shape[1]\n",
    "    M = B.shape[1]\n",
    "    C = np.empty(shape=(N,M), dtype=np.float64)\n",
    "    for i in range(N):\n",
    "        for j in range(M):\n",
    "            buf = 0\n",
    "            for k in range(K):\n",
    "                buf = buf + A[i][k] * B[k][j]\n",
    "            C[i][j] = buf\n",
    "    return C\n",
    "\n",
    "@nb.njit(nb.float64[:,::1](nb.float64[:,::1],nb.float64[:,::1]))\n",
    "def NBproductT(A,B):\n",
    "    N = A.shape[0]\n",
    "    K = A.shape[1]\n",
    "    M = B.shape[0]\n",
    "    C = np.empty(shape=(N,M), dtype=np.float64)\n",
    "    for i in range(N):\n",
    "        for j in range(M):\n",
    "            buf = 0\n",
    "            for k in range(K):\n",
    "                buf = buf + A[i][k] * B[j][k]\n",
    "            C[i][j] = buf\n",
    "    return C\n",
    "\n",
    "%timeit NBproduct(A,B)\n",
    "%timeit NBproductT(A,BT)"
   ]
  },
  {
   "cell_type": "code",
   "execution_count": 9,
   "metadata": {},
   "outputs": [
    {
     "name": "stdout",
     "output_type": "stream",
     "text": [
      "8.72 µs ± 894 ns per loop (mean ± std. dev. of 7 runs, 100000 loops each)\n"
     ]
    }
   ],
   "source": [
    "%timeit A@B"
   ]
  },
  {
   "cell_type": "code",
   "execution_count": 10,
   "metadata": {},
   "outputs": [],
   "source": [
    "def productIJK(A,B):\n",
    "    N = A.shape[0]\n",
    "    K = A.shape[1]\n",
    "    M = B.shape[1]\n",
    "    C = np.empty(shape=[N,M])\n",
    "    for i in range(N):\n",
    "        for j in range(M):\n",
    "            buf = 0\n",
    "            for k in range(K):\n",
    "                buf = buf + A[i][k] * B[k][j]\n",
    "            C[i][j] = buf\n",
    "    return C\n",
    "\n",
    "def productJIK(A,B):\n",
    "    N = A.shape[0]\n",
    "    K = A.shape[1]\n",
    "    M = B.shape[1]\n",
    "    C = np.empty(shape=[N,M])\n",
    "    for j in range(M):\n",
    "        for i in range(N):\n",
    "            buf = 0\n",
    "            for k in range(K):\n",
    "                buf = buf + A[i][k] * B[k][j]\n",
    "            C[i][j] = buf\n",
    "    return C\n",
    "\n",
    "def productIKJ(A,B):\n",
    "    N = A.shape[0]\n",
    "    K = A.shape[1]\n",
    "    M = B.shape[1]\n",
    "    C = np.empty(shape=[N,M])\n",
    "    for i in range(N):\n",
    "        for k in range(K):\n",
    "            buf = 0\n",
    "            for j in range(M):\n",
    "                buf = buf + A[i][k] * B[k][j]\n",
    "            C[i][j] = buf\n",
    "    return C\n",
    "\n",
    "def productJKI(A,B):\n",
    "    N = A.shape[0]\n",
    "    K = A.shape[1]\n",
    "    M = B.shape[1]\n",
    "    C = np.empty(shape=[N,M])\n",
    "    for j in range(M):\n",
    "        for k in range(K):\n",
    "            buf = 0\n",
    "            for i in range(N):\n",
    "                buf = buf + A[i][k] * B[k][j]\n",
    "            C[i][j] = buf\n",
    "    return C\n",
    "\n",
    "def productKIJ(A,B):\n",
    "    N = A.shape[0]\n",
    "    K = A.shape[1]\n",
    "    M = B.shape[1]\n",
    "    C = np.empty(shape=[N,M])\n",
    "    for k in range(K):\n",
    "        for i in range(N):\n",
    "            buf = 0\n",
    "            for j in range(M):\n",
    "                buf = buf + A[i][k] * B[k][j]\n",
    "            C[i][j] = buf\n",
    "    return C\n",
    "\n",
    "def productKJI(A,B):\n",
    "    N = A.shape[0]\n",
    "    K = A.shape[1]\n",
    "    M = B.shape[1]\n",
    "    C = np.empty(shape=[N,M])\n",
    "    for k in range(K):\n",
    "        for j in range(M):\n",
    "            buf = 0\n",
    "            for i in range(N):\n",
    "                buf = buf + A[i][k] * B[k][j]\n",
    "            C[i][j] = buf\n",
    "    return C"
   ]
  },
  {
   "cell_type": "code",
   "execution_count": 26,
   "metadata": {},
   "outputs": [
    {
     "name": "stdout",
     "output_type": "stream",
     "text": [
      "943 ms ± 80.7 ms per loop (mean ± std. dev. of 7 runs, 1 loop each)\n",
      "1 s ± 26.4 ms per loop (mean ± std. dev. of 7 runs, 1 loop each)\n",
      "1.01 s ± 77.8 ms per loop (mean ± std. dev. of 7 runs, 1 loop each)\n",
      "948 ms ± 64.3 ms per loop (mean ± std. dev. of 7 runs, 1 loop each)\n",
      "1.03 s ± 45.4 ms per loop (mean ± std. dev. of 7 runs, 1 loop each)\n",
      "1.03 s ± 75.9 ms per loop (mean ± std. dev. of 7 runs, 1 loop each)\n"
     ]
    }
   ],
   "source": [
    "%timeit productIJK(C,D)\n",
    "%timeit productJIK(C,D)\n",
    "%timeit productIKJ(C,D)\n",
    "%timeit productJKI(C,D)\n",
    "%timeit productKIJ(C,D)\n",
    "%timeit productKJI(C,D)"
   ]
  },
  {
   "cell_type": "code",
   "execution_count": 13,
   "metadata": {},
   "outputs": [],
   "source": [
    "@nb.njit(nb.float64[:,::1](nb.float64[:,::1],nb.float64[:,::1]), parallel=True)\n",
    "def NproductIJK(A,B):\n",
    "    N = A.shape[0]\n",
    "    K = A.shape[1]\n",
    "    M = B.shape[1]\n",
    "    C = np.empty(shape=(N,M), dtype=np.float64)\n",
    "    for i in prange(N):\n",
    "        for j in range(M):\n",
    "            buf = 0\n",
    "            for k in range(K):\n",
    "                buf = buf + A[i][k] * B[k][j]\n",
    "            C[i][j] = buf\n",
    "    return C\n",
    "\n",
    "@nb.njit(nb.float64[:,::1](nb.float64[:,::1],nb.float64[:,::1]), parallel=True)\n",
    "def NproductJIK(A,B):\n",
    "    N = A.shape[0]\n",
    "    K = A.shape[1]\n",
    "    M = B.shape[1]\n",
    "    C = np.empty(shape=(N,M), dtype=np.float64)\n",
    "    for j in prange(M):\n",
    "        for i in range(N):\n",
    "            buf = 0\n",
    "            for k in range(K):\n",
    "                buf = buf + A[i][k] * B[k][j]\n",
    "            C[i][j] = buf\n",
    "    return C\n",
    "\n",
    "@nb.njit(nb.float64[:,::1](nb.float64[:,::1],nb.float64[:,::1]), parallel=True)\n",
    "def NproductIKJ(A,B):\n",
    "    N = A.shape[0]\n",
    "    K = A.shape[1]\n",
    "    M = B.shape[1]\n",
    "    C = np.empty(shape=(N,M), dtype=np.float64)\n",
    "    for i in prange(N):\n",
    "        for k in range(K):\n",
    "            buf = 0\n",
    "            for j in range(M):\n",
    "                buf = buf + A[i][k] * B[k][j]\n",
    "            C[i][j] = buf\n",
    "    return C\n",
    "\n",
    "@nb.njit(nb.float64[:,::1](nb.float64[:,::1],nb.float64[:,::1]), parallel=True)\n",
    "def NproductJKI(A,B):\n",
    "    N = A.shape[0]\n",
    "    K = A.shape[1]\n",
    "    M = B.shape[1]\n",
    "    C = np.empty(shape=(N,M), dtype=np.float64)\n",
    "    for j in prange(M):\n",
    "        for k in range(K):\n",
    "            buf = 0\n",
    "            for i in range(N):\n",
    "                buf = buf + A[i][k] * B[k][j]\n",
    "            C[i][j] = buf\n",
    "    return C\n",
    "\n",
    "@nb.njit(nb.float64[:,::1](nb.float64[:,::1],nb.float64[:,::1]), parallel=True)\n",
    "def NproductKIJ(A,B):\n",
    "    N = A.shape[0]\n",
    "    K = A.shape[1]\n",
    "    M = B.shape[1]\n",
    "    C = np.empty(shape=(N,M), dtype=np.float64)\n",
    "    for k in prange(K):\n",
    "        for i in range(N):\n",
    "            buf = 0\n",
    "            for j in range(M):\n",
    "                buf = buf + A[i][k] * B[k][j]\n",
    "            C[i][j] = buf\n",
    "    return C\n",
    "\n",
    "@nb.njit(nb.float64[:,::1](nb.float64[:,::1],nb.float64[:,::1]), parallel=True)\n",
    "def NproductKJI(A,B):\n",
    "    N = A.shape[0]\n",
    "    K = A.shape[1]\n",
    "    M = B.shape[1]\n",
    "    C = np.empty(shape=(N,M), dtype=np.float64)\n",
    "    for k in prange(K):\n",
    "        for j in range(M):\n",
    "            buf = 0\n",
    "            for i in range(N):\n",
    "                buf = buf + A[i][k] * B[k][j]\n",
    "            C[i][j] = buf\n",
    "    return C"
   ]
  },
  {
   "cell_type": "code",
   "execution_count": 30,
   "metadata": {},
   "outputs": [
    {
     "name": "stdout",
     "output_type": "stream",
     "text": [
      "378 µs ± 23.4 µs per loop (mean ± std. dev. of 7 runs, 1000 loops each)\n",
      "346 µs ± 5.28 µs per loop (mean ± std. dev. of 7 runs, 1000 loops each)\n",
      "371 µs ± 3.5 µs per loop (mean ± std. dev. of 7 runs, 1000 loops each)\n",
      "363 µs ± 3.97 µs per loop (mean ± std. dev. of 7 runs, 1000 loops each)\n",
      "293 µs ± 3.79 µs per loop (mean ± std. dev. of 7 runs, 1000 loops each)\n",
      "332 µs ± 7.81 µs per loop (mean ± std. dev. of 7 runs, 1000 loops each)\n"
     ]
    }
   ],
   "source": [
    "%timeit NproductIJK(C,D)\n",
    "%timeit NproductJIK(C,D)\n",
    "%timeit NproductIKJ(C,D)\n",
    "%timeit NproductJKI(C,D)\n",
    "%timeit NproductKIJ(C,D)\n",
    "%timeit NproductKJI(C,D)"
   ]
  },
  {
   "cell_type": "code",
   "execution_count": 22,
   "metadata": {},
   "outputs": [
    {
     "name": "stdout",
     "output_type": "stream",
     "text": [
      "92.9 µs ± 2.15 µs per loop (mean ± std. dev. of 7 runs, 10000 loops each)\n",
      "93.8 µs ± 854 ns per loop (mean ± std. dev. of 7 runs, 10000 loops each)\n",
      "82.1 µs ± 370 ns per loop (mean ± std. dev. of 7 runs, 10000 loops each)\n",
      "78.8 µs ± 326 ns per loop (mean ± std. dev. of 7 runs, 10000 loops each)\n",
      "68.4 µs ± 478 ns per loop (mean ± std. dev. of 7 runs, 10000 loops each)\n",
      "43.6 µs ± 1.55 µs per loop (mean ± std. dev. of 7 runs, 10000 loops each)\n"
     ]
    }
   ],
   "source": [
    "%timeit NproductIJK(A,B)\n",
    "%timeit NproductJIK(A,B)\n",
    "%timeit NproductIKJ(A,B)\n",
    "%timeit NproductJKI(A,B)\n",
    "%timeit NproductKIJ(A,B)\n",
    "%timeit NproductKJI(A,B)"
   ]
  },
  {
   "cell_type": "code",
   "execution_count": 15,
   "metadata": {},
   "outputs": [],
   "source": [
    "def Strassen(A,B):\n",
    "    if (A.shape[0] != A.shape[1]) & (B.shape[0] != B.shape[1]) & (A.shape[0] != B.shape[0]):\n",
    "        print(\"Not a square matrix\")\n",
    "        return\n",
    "    N = A.shape[0]\n",
    "    if N>=64:\n",
    "        return A@B\n",
    "    p = mt.ceil(mt.log2(N))\n",
    "    dim = 2**p\n",
    "    A2 = A\n",
    "    B2 = B\n",
    "    delta = dim - N\n",
    "    for i in range(delta):\n",
    "        adh = np.zeros((N,1))\n",
    "        A2 = np.hstack((A2, adh))\n",
    "        B2 = np.hstack((B2, adh))\n",
    "    for i in range(delta):\n",
    "        adv = np.zeros((1,dim))\n",
    "        A2 = np.vstack((A2,adv))\n",
    "        B2 = np.vstack((B2,adv))\n",
    "    half = (2**(p-1))\n",
    "    A11 = A2[:half,:half]\n",
    "    A12 = A2[:half,half:]\n",
    "    A21 = A2[half:,:half]\n",
    "    A22 = A2[half:,half:]\n",
    "    B11 = B2[:half,:half]\n",
    "    B12 = B2[:half,half:]\n",
    "    B21 = B2[half:,:half]\n",
    "    B22 = B2[half:,half:]\n",
    "    P1 = Strassen((A11 + A22), (B11 + B22))\n",
    "    P2 = Strassen((A21 + A22), B11)\n",
    "    P3 = Strassen(A11, (B12 - B22))\n",
    "    P4 = Strassen(A22, (B21 - B11))\n",
    "    P5 = Strassen((A11 + A12), B22)\n",
    "    P6 = Strassen((A21 - A11), (B11 + B12))\n",
    "    P7 = Strassen((A12 - A22), (B21 + B22))\n",
    "    C11 = P1 + P4 - P5 + P7\n",
    "    C12 = P3 + P5\n",
    "    C21 = P2 + P4\n",
    "    C22 = P1 - P2 + P3 + P6\n",
    "    C1 = np.hstack((C11,C12))\n",
    "    C2 = np.hstack((C21,C22))\n",
    "    C = np.vstack((C1,C2))\n",
    "    C = C[:N,:N]\n",
    "    return C"
   ]
  },
  {
   "cell_type": "code",
   "execution_count": 16,
   "metadata": {},
   "outputs": [],
   "source": [
    "N = 100\n",
    "C = np.random.sample((N,N))\n",
    "D = np.random.sample((N,N))"
   ]
  },
  {
   "cell_type": "code",
   "execution_count": 23,
   "metadata": {},
   "outputs": [
    {
     "name": "stdout",
     "output_type": "stream",
     "text": [
      "37.5 µs ± 3.6 µs per loop (mean ± std. dev. of 7 runs, 10000 loops each)\n",
      "34.7 µs ± 2.71 µs per loop (mean ± std. dev. of 7 runs, 10000 loops each)\n"
     ]
    }
   ],
   "source": [
    "%timeit Strassen(D,D)\n",
    "%timeit C@D"
   ]
  },
  {
   "cell_type": "code",
   "execution_count": 31,
   "metadata": {},
   "outputs": [
    {
     "name": "stdout",
     "output_type": "stream",
     "text": [
      "Optimized definition\n",
      "905 ms ± 62.2 ms per loop (mean ± std. dev. of 7 runs, 1 loop each)\n",
      "Optimized Numba with parallel computing\n",
      "246 µs ± 2.13 µs per loop (mean ± std. dev. of 7 runs, 1000 loops each)\n",
      "Strassen\n",
      "32 µs ± 1.29 µs per loop (mean ± std. dev. of 7 runs, 10000 loops each)\n",
      "Numpy\n",
      "29.1 µs ± 807 ns per loop (mean ± std. dev. of 7 runs, 10000 loops each)\n"
     ]
    }
   ],
   "source": [
    "# Итого по результатам\n",
    "print('Optimized definition')\n",
    "%timeit productIJK(C,D)\n",
    "print('Optimized Numba with parallel computing')\n",
    "%timeit NproductKIJ(C,D)\n",
    "print('Strassen')\n",
    "%timeit Strassen(C,D)\n",
    "print('Numpy')\n",
    "%timeit C@D"
   ]
  },
  {
   "cell_type": "code",
   "execution_count": 108,
   "metadata": {},
   "outputs": [],
   "source": [
    "q = 200\n",
    "t = np.zeros(q)\n",
    "for i in range(1,q):\n",
    "    C = None\n",
    "    D = None\n",
    "    C = np.random.sample((i,i))\n",
    "    D = np.random.sample((i,i))\n",
    "    t[i] = f_time(NproductKIJ,(C,D))/10e+06"
   ]
  },
  {
   "cell_type": "code",
   "execution_count": 109,
   "metadata": {},
   "outputs": [
    {
     "data": {
      "text/plain": [
       "Text(0, 0.5, 'Time')"
      ]
     },
     "execution_count": 109,
     "metadata": {},
     "output_type": "execute_result"
    },
    {
     "data": {
      "image/png": "[encoded data removed]",
      "text/plain": [
       "<Figure size 432x288 with 1 Axes>"
      ]
     },
     "metadata": {
      "needs_background": "light"
     },
     "output_type": "display_data"
    }
   ],
   "source": [
    "niter = [i for i in range(q)]\n",
    "import matplotlib.pyplot as plt\n",
    "plt.plot(niter, t)\n",
    "plt.xlabel('N')\n",
    "plt.ylabel('Time')"
   ]
  },
  {
   "cell_type": "code",
   "execution_count": null,
   "metadata": {},
   "outputs": [],
   "source": []
  }
 ],
 "metadata": {
  "kernelspec": {
   "display_name": "Python 3",
   "language": "python",
   "name": "python3"
  },
  "language_info": {
   "codemirror_mode": {
    "name": "ipython",
    "version": 3
   },
   "file_extension": ".py",
   "mimetype": "text/x-python",
   "name": "python",
   "nbconvert_exporter": "python",
   "pygments_lexer": "ipython3",
   "version": "3.8.3"
  }
 },
 "nbformat": 4,
 "nbformat_minor": 4
}
