{
 "cells": [
  {
   "cell_type": "code",
   "execution_count": 1,
   "metadata": {},
   "outputs": [],
   "source": [
    "import numpy as np\n",
    "from scipy.sparse.linalg import spsolve, LinearOperator\n",
    "from scipy.sparse import csc_matrix\n",
    "import matplotlib.pyplot as plt\n",
    "import scipy"
   ]
  },
  {
   "cell_type": "markdown",
   "metadata": {},
   "source": [
    "## Задания \n",
    "\n",
    "1. Реализуйте функцию, вычисляющую $Ax$, где $A$ -\\- вышеуказанная дискретизация оператора Лапласса.\n",
    "Реализуйте функцию, вычисляющую $A^Tx$ на произвольном векторе $x$.\n",
    "\n",
    "2. Решите дискретизованное уравнение Пуассона выше с помощью функции [`scipy.sparse.linalg.spsolve`](https://docs.scipy.org/doc/scipy/reference/generated/scipy.sparse.linalg.spsolve.html). "
   ]
  },
  {
   "cell_type": "code",
   "execution_count": 2,
   "metadata": {},
   "outputs": [],
   "source": [
    "N = 10\n",
    "h=1/N"
   ]
  },
  {
   "cell_type": "code",
   "execution_count": 3,
   "metadata": {},
   "outputs": [],
   "source": [
    "def vec_b(n): #1d\n",
    "    def b(i,j,k):\n",
    "        return (i/N - 1/2)**2 + (j/N - 1/2)**2 + (k/N - 1/2)**2\n",
    "    \n",
    "    vec = np.zeros((n,n,n))\n",
    "    for i in range(n):\n",
    "        for j in range(n):\n",
    "            for k in range(n):\n",
    "                vec[i,j,k] = b(i,j,k)\n",
    "    return vec.flatten()"
   ]
  },
  {
   "cell_type": "code",
   "execution_count": 4,
   "metadata": {},
   "outputs": [],
   "source": [
    "def A(x): #x - 1d\n",
    "    n = int(np.around((x.shape[0])** (1. / 3)))\n",
    "    x = x.reshape((n,n,n)) # x - 3d\n",
    "    zer = np.zeros((n+2,n+2,n+2)) \n",
    "    zer[1:-1,1:-1,1:-1] = x[:,:,:] #добавляем 0 границы вокруг искомой области\n",
    "    y = np.empty_like(x)\n",
    "    for i in range(1,n+1):\n",
    "        for j in range(1,n+1):\n",
    "            for k in range(1,n+1):\n",
    "                y[i-1,j-1,k-1] = zer[i+1,j,k] + zer[i-1,j,k] + zer[i,j+1,k] + zer[i,j-1,k] + zer[i,j,k+1] + zer[i,j,k-1] - 6*zer[i,j,k]\n",
    "#                 y[i,j,k] = 10 * np.sin(i*np.pi/(N-1)) * np.sin(j*np.pi/(N-1))*np.sin(k*np.pi/(N-1))\n",
    "    y = y*(n**2)\n",
    "    return y.flatten()"
   ]
  },
  {
   "cell_type": "code",
   "execution_count": 5,
   "metadata": {},
   "outputs": [],
   "source": [
    "Oper = LinearOperator(matvec = A, shape=((N)**3,(N)**3))"
   ]
  },
  {
   "cell_type": "code",
   "execution_count": 6,
   "metadata": {},
   "outputs": [],
   "source": [
    "Oper_mat = Oper * np.eye(N**3) #получаем матричный вид оператора\n",
    "Oper_mat_sparse = csc_matrix(Oper_mat) #переводим в разреженный вид\n",
    "Bvec = vec_b(N)"
   ]
  },
  {
   "cell_type": "code",
   "execution_count": 7,
   "metadata": {},
   "outputs": [],
   "source": [
    "sol = spsolve(Oper_mat_sparse,Bvec.T)"
   ]
  },
  {
   "cell_type": "code",
   "execution_count": 8,
   "metadata": {},
   "outputs": [],
   "source": [
    "sol = sol.reshape((N,N,N))\n",
    "sol1 = np.zeros((N,N,N))\n",
    "sol1[1:-1,1:-1,1:-1] = sol[1:-1,1:-1,1:-1]"
   ]
  },
  {
   "cell_type": "markdown",
   "metadata": {},
   "source": [
    "# Задания\n",
    "\n",
    "3. Какова размерность пространства $K(A,b,m)$, если $A$ - дискретизация лаплассиана, определенная выше?\n",
    "\n",
    "4. Запишите матрицу $\\tilde A_m$ сужения оператора $A$ на пространство Крылова $K(A,b,m)$ в базисе $e_k$:\n",
    "$$e_0=b,\\quad e_1=Ae_0,\\quad e_{k+1}=Ae_k.$$\n",
    "Как раскладывается $Ae_{m-1}$ по векторам $e_0,\\ldots,e_{m-1}$?\n",
    "\n",
    "5. Найдите проекцию $\\tilde b$ вектора $b$ на подпространство Крылова $K(A,b,m)$ и решите систему $\\tilde A_m \\tilde x=\\tilde b$\n",
    "из $m$ уравнений.\n",
    "Вложите вектор $\\tilde x$ обратно в $N^3$ мерное пространство и оцените погрешность решения уравнения $Ax=b$. "
   ]
  },
  {
   "cell_type": "markdown",
   "metadata": {},
   "source": [
    "Размерность вектора $b - N^3$, $Ab - N^3$, $K(A,b,m) - m N^3$."
   ]
  },
  {
   "cell_type": "code",
   "execution_count": 9,
   "metadata": {},
   "outputs": [],
   "source": [
    "def Krylov_basis(A, b, m):\n",
    "    sizes = b.shape\n",
    "    b = b.flatten()\n",
    "    E = np.zeros((b.shape[0],m))\n",
    "    E[:,0] = b[:]\n",
    "    vec = np.zeros((b.shape[0],))\n",
    "    for k in range(1,m):\n",
    "        vec[:] = E[:,k-1]\n",
    "        n_vec = A @ vec\n",
    "        E[:, k] = n_vec[:]\n",
    "    return E"
   ]
  },
  {
   "cell_type": "code",
   "execution_count": 10,
   "metadata": {},
   "outputs": [],
   "source": [
    "m = 10\n",
    "S = Krylov_basis(Oper_mat, Bvec, m)"
   ]
  },
  {
   "cell_type": "code",
   "execution_count": 11,
   "metadata": {},
   "outputs": [],
   "source": [
    "A_kr = np.linalg.pinv(S) @ Oper_mat @ S"
   ]
  },
  {
   "cell_type": "code",
   "execution_count": 12,
   "metadata": {},
   "outputs": [],
   "source": [
    "P_kr = S @ (np.linalg.pinv(S.T @ S)) @ S.T\n",
    "# P_kr @ Bvec"
   ]
  },
  {
   "cell_type": "code",
   "execution_count": 13,
   "metadata": {},
   "outputs": [],
   "source": [
    "b_kr = np.linalg.solve(S[:m,:m],Bvec[:m])"
   ]
  },
  {
   "cell_type": "code",
   "execution_count": 14,
   "metadata": {},
   "outputs": [
    {
     "data": {
      "text/plain": [
       "array([1.00000000e+00, 8.27602687e-15, 2.17858489e-16, 2.51153203e-18,\n",
       "       1.56467137e-20, 5.57044712e-23, 1.14555174e-25, 1.33230836e-28,\n",
       "       8.08596986e-32, 1.98188863e-35])"
      ]
     },
     "execution_count": 14,
     "metadata": {},
     "output_type": "execute_result"
    }
   ],
   "source": [
    "b_kr"
   ]
  },
  {
   "cell_type": "code",
   "execution_count": 15,
   "metadata": {},
   "outputs": [],
   "source": [
    "sol_kr = np.linalg.solve(A_kr,b_kr)\n",
    "sol_kr = (S @ sol_kr).reshape((N,N,N))"
   ]
  },
  {
   "cell_type": "code",
   "execution_count": 16,
   "metadata": {},
   "outputs": [
    {
     "data": {
      "text/plain": [
       "-2.7566885276277403e+32"
      ]
     },
     "execution_count": 16,
     "metadata": {},
     "output_type": "execute_result"
    }
   ],
   "source": [
    "np.amax(sol - sol_kr)"
   ]
  },
  {
   "cell_type": "markdown",
   "metadata": {},
   "source": [
    "## Задания\n",
    "6. Реализуйте метод Ланцоша и найдите ортонормированный базис в пространстве $K(A,b,m)$.\n",
    "Убедитесь, что матрица $A_m$ оператора $A$ в этом базисе трехдиагональна.\n",
    "\n",
    "7. Найдите разложение $b_m$ вектора $b$ по построенному базису и решите систему $A_m x_m=b_m$.\n",
    "Вложите вектор $x_m$ обратно в $N^3$-мерное пространство и найдите ошибку решения. \n",
    "Сравните решение с полученным в задании 5.\n",
    " "
   ]
  },
  {
   "cell_type": "code",
   "execution_count": 17,
   "metadata": {},
   "outputs": [],
   "source": [
    "def Lanczos(A, b, n: int):\n",
    "\n",
    "    m = A.shape[0]\n",
    "    H = np.zeros((n + 1, n))\n",
    "    Q = np.zeros((m, n + 1))\n",
    "    q = b / np.linalg.norm(b)  \n",
    "    Q[:, 0] = q  \n",
    "\n",
    "    for k in range(n):\n",
    "        v = A @ q  \n",
    "        for j in range(k + 1):  \n",
    "            H[j, k] = Q[:, j] @ v\n",
    "            v = v - H[j, k] * Q[:, j]\n",
    "\n",
    "        H[k + 1, k] = np.linalg.norm(v)\n",
    "        eps = 1e-15  \n",
    "        if H[k + 1, k] > eps:  \n",
    "            q = v / H[k + 1, k]  \n",
    "            Q[:, k + 1] = q\n",
    "        else: \n",
    "            return Q, H\n",
    "    return Q[0:m, 0:n] , H[0:n, 0:n]"
   ]
  },
  {
   "cell_type": "code",
   "execution_count": 18,
   "metadata": {},
   "outputs": [],
   "source": [
    "S_ort, h = Lanczos(Oper_mat, Bvec, n = 20)"
   ]
  },
  {
   "cell_type": "code",
   "execution_count": 19,
   "metadata": {},
   "outputs": [],
   "source": [
    "A_kr_ort = S_ort.T @ Oper_mat @ S_ort"
   ]
  },
  {
   "cell_type": "code",
   "execution_count": 20,
   "metadata": {},
   "outputs": [],
   "source": [
    "b_kr_ort = S_ort.T @ Bvec"
   ]
  },
  {
   "cell_type": "code",
   "execution_count": 21,
   "metadata": {},
   "outputs": [],
   "source": [
    "sol_kr_ort = np.linalg.solve(A_kr_ort,b_kr_ort)\n",
    "sol_kr_ort = (S_ort @ sol_kr_ort).reshape((N,N,N))"
   ]
  },
  {
   "cell_type": "code",
   "execution_count": 22,
   "metadata": {},
   "outputs": [
    {
     "data": {
      "text/plain": [
       "3.043345031952529e+36"
      ]
     },
     "execution_count": 22,
     "metadata": {},
     "output_type": "execute_result"
    }
   ],
   "source": [
    "np.linalg.norm(sol_kr - sol_kr_ort)"
   ]
  },
  {
   "cell_type": "markdown",
   "metadata": {},
   "source": [
    "## Задания\n",
    "\n",
    "8. Используйте $K=K(A,b,m)$, $L=A K$ и решите уравнение Пуассона метода Петрова-Галеркина. \n",
    "Оцените ошибку получившегося решения.\n",
    "Получающийся метод имеет название [GMRES](https://en.wikipedia.org/wiki/Generalized_minimal_residual_method).\n",
    "Убедитесь, что этот подход минимизирует невязку по всем $x\\in K$.\n",
    "\n",
    "9. Оцените время работы алгоритма как функцию от $m$."
   ]
  },
  {
   "cell_type": "code",
   "execution_count": 23,
   "metadata": {},
   "outputs": [],
   "source": [
    "K = S\n",
    "L = Oper_mat @ K"
   ]
  },
  {
   "cell_type": "code",
   "execution_count": 24,
   "metadata": {},
   "outputs": [],
   "source": [
    "def gmres(A, b, x0, m):\n",
    " \n",
    "    r0 = b - A @ x0\n",
    "    beta = np.linalg.norm(r0)\n",
    "    x=[]\n",
    "    x.append(r0)\n",
    "    V = np.zeros((r0.shape[0],m))\n",
    "    W = np.zeros((r0.shape[0],m))\n",
    "    V[:,0] = r0[:]/beta\n",
    "    H = np.zeros((m+1,m))\n",
    "    Beta_arr = np.zeros(m+1)\n",
    "    Beta_arr[0] = beta\n",
    "    for j in range(m):\n",
    "        W[:,j] = A @ V[:,j]\n",
    "        for i in range(j):\n",
    "            H[i,j] = W[:,j] @ V[:,i]\n",
    "            W[:,j] -= H[i,j] * V[:,i]\n",
    "        H[j+1,j] = np.linalg.norm(W[:,j])\n",
    "        if (H[j+1,j] != 0) and (j != m-1):\n",
    "            V[:,j+1] = W[:,j]/H[j+1,j]\n",
    "    \n",
    "        \n",
    "        y = np.linalg.lstsq(H, Beta_arr)[0]\n",
    "        x.append(x0 + V@y)\n",
    "    return x[m-1]"
   ]
  },
  {
   "cell_type": "code",
   "execution_count": 25,
   "metadata": {},
   "outputs": [
    {
     "name": "stderr",
     "output_type": "stream",
     "text": [
      "<ipython-input-24-2c46e6fa4c05>:23: FutureWarning: `rcond` parameter will change to the default of machine precision times ``max(M, N)`` where M and N are the input matrix dimensions.\n",
      "To use the future default and silence this warning we advise to pass `rcond=None`, to keep using the old, explicitly pass `rcond=-1`.\n",
      "  y = np.linalg.lstsq(H, Beta_arr)[0]\n"
     ]
    }
   ],
   "source": [
    "xx = gmres(Oper_mat, Bvec, Bvec, 10)\n",
    "xx = xx.reshape((N,N,N))"
   ]
  },
  {
   "cell_type": "code",
   "execution_count": 26,
   "metadata": {},
   "outputs": [],
   "source": [
    "ans = scipy.sparse.linalg.gmres(Oper_mat, Bvec, Bvec)[0]\n",
    "ans = ans.reshape((N,N,N))"
   ]
  },
  {
   "cell_type": "code",
   "execution_count": 27,
   "metadata": {},
   "outputs": [
    {
     "data": {
      "text/plain": [
       "1.3157681064998586e-06"
      ]
     },
     "execution_count": 27,
     "metadata": {},
     "output_type": "execute_result"
    }
   ],
   "source": [
    "np.linalg.norm(ans - sol)"
   ]
  },
  {
   "cell_type": "code",
   "execution_count": null,
   "metadata": {},
   "outputs": [],
   "source": []
  },
  {
   "cell_type": "code",
   "execution_count": 28,
   "metadata": {},
   "outputs": [],
   "source": [
    "import time\n",
    "def ftime(f, *args, n_iter=5):\n",
    "    acc = float('inf')\n",
    "    for i in range (n_iter):\n",
    "        t0 = time.perf_counter()\n",
    "        f(*args)\n",
    "        t1 = time.perf_counter()\n",
    "        acc = min(acc,t1-t0)\n",
    "    return acc"
   ]
  },
  {
   "cell_type": "code",
   "execution_count": 29,
   "metadata": {},
   "outputs": [
    {
     "name": "stderr",
     "output_type": "stream",
     "text": [
      "<ipython-input-24-2c46e6fa4c05>:23: FutureWarning: `rcond` parameter will change to the default of machine precision times ``max(M, N)`` where M and N are the input matrix dimensions.\n",
      "To use the future default and silence this warning we advise to pass `rcond=None`, to keep using the old, explicitly pass `rcond=-1`.\n",
      "  y = np.linalg.lstsq(H, Beta_arr)[0]\n"
     ]
    }
   ],
   "source": [
    "t = []\n",
    "for n in range(10,300,10):\n",
    "    t.append(ftime(gmres, Oper_mat, Bvec, Bvec, 10))"
   ]
  },
  {
   "cell_type": "code",
   "execution_count": 30,
   "metadata": {},
   "outputs": [
    {
     "data": {
      "text/plain": [
       "Text(0, 0.5, 'Время работы GMRes, s')"
      ]
     },
     "execution_count": 30,
     "metadata": {},
     "output_type": "execute_result"
    },
    {
     "data": {
      "image/png": "[encoded data removed]",
      "text/plain": [
       "<Figure size 432x288 with 1 Axes>"
      ]
     },
     "metadata": {
      "needs_background": "light"
     },
     "output_type": "display_data"
    }
   ],
   "source": [
    "plt.plot(list(range(10,300,10)), t)\n",
    "plt.xlabel(\"m\")\n",
    "plt.ylabel(\"Время работы GMRes, s\")"
   ]
  },
  {
   "cell_type": "code",
   "execution_count": null,
   "metadata": {},
   "outputs": [],
   "source": []
  },
  {
   "cell_type": "markdown",
   "metadata": {},
   "source": [
    "## Задание\n",
    "\n",
    "11. Используйте метод Ланцоша для построения трехдиагональной матрицы сужения оператора $A$ на пространство Крылова $K(A,q,m)$\n",
    "для некоторого вектора $q$.\n",
    "Найдите наименьшее собственное значение трехдиагональной матрицы и сравните с наименьшим собственным значением оператора Лапласа.\n",
    "Изучите, как изменяется ошибка, как функция от размерности $m$ пространства Крылова."
   ]
  },
  {
   "cell_type": "code",
   "execution_count": 35,
   "metadata": {},
   "outputs": [
    {
     "name": "stdout",
     "output_type": "stream",
     "text": [
      "Min собственное значение:  -1175.6957841686985\n"
     ]
    }
   ],
   "source": [
    "l, vec = np.linalg.eigh(Oper_mat)\n",
    "min_egiv = np.min(l)\n",
    "print('Min собственное значение: ',min_egiv)"
   ]
  },
  {
   "cell_type": "code",
   "execution_count": 32,
   "metadata": {},
   "outputs": [],
   "source": [
    "hist = []\n",
    "b = np.zeros(N**3)\n",
    "b[4] = 1."
   ]
  },
  {
   "cell_type": "code",
   "execution_count": 33,
   "metadata": {},
   "outputs": [],
   "source": [
    "for i in range(2, 45):\n",
    "    Q, H = Lanczos(Oper_mat, Bvec, i)\n",
    "    l, vec = np.linalg.eigh(H)\n",
    "    hist.append(np.min(l) - min_egiv)"
   ]
  },
  {
   "cell_type": "code",
   "execution_count": 34,
   "metadata": {},
   "outputs": [
    {
     "data": {
      "text/plain": [
       "Text(0, 0.5, 'логарифм модуля ошибки')"
      ]
     },
     "execution_count": 34,
     "metadata": {},
     "output_type": "execute_result"
    },
    {
     "data": {
      "image/png": "[encoded data removed]",
      "text/plain": [
       "<Figure size 432x288 with 1 Axes>"
      ]
     },
     "metadata": {
      "needs_background": "light"
     },
     "output_type": "display_data"
    }
   ],
   "source": [
    "plt.plot(list(range(2, 45)), np.log(np.abs(hist)))\n",
    "plt.xlabel(\"m\")\n",
    "plt.ylabel(\"логарифм модуля ошибки\")"
   ]
  },
  {
   "cell_type": "code",
   "execution_count": null,
   "metadata": {},
   "outputs": [],
   "source": []
  }
 ],
 "metadata": {
  "kernelspec": {
   "display_name": "Python 3",
   "language": "python",
   "name": "python3"
  },
  "language_info": {
   "codemirror_mode": {
    "name": "ipython",
    "version": 3
   },
   "file_extension": ".py",
   "mimetype": "text/x-python",
   "name": "python",
   "nbconvert_exporter": "python",
   "pygments_lexer": "ipython3",
   "version": "3.8.3"
  }
 },
 "nbformat": 4,
 "nbformat_minor": 4
}
