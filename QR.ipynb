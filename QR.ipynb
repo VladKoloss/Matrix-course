{
 "cells": [
  {
   "cell_type": "markdown",
   "metadata": {},
   "source": [
    "# Part1"
   ]
  },
  {
   "cell_type": "markdown",
   "metadata": {},
   "source": [
    "1. НУО предположим, что \n",
    "$$|v\\rangle = \\begin{pmatrix} 1\\\\ 0\\\\ 0\\\\ ...\\\\ 0  \\end{pmatrix}, |u\\rangle = \\begin{pmatrix} 0\\\\ 1\\\\ 0\\\\ ...\\\\ 0  \\end{pmatrix} $$\n",
    "\n",
    "Тогда\n",
    "$$|v\\rangle \\langle v| = diag(1, 0, 0, ..., 0),\\, |u\\rangle \\langle u| = diag(0, 1, 0, ..., 0)$$\n",
    "$$\\begin{pmatrix} |v\\rangle& |u\\rangle  \\end{pmatrix} \\begin{pmatrix} \\cos{\\theta}& \\sin{\\theta}\\\\ -\\sin{\\theta}& \\cos{\\theta}\\end{pmatrix} \\begin{pmatrix} \\langle v|\\\\ \\langle u|\\end{pmatrix} = \\begin{pmatrix} \\cos{\\theta}& \\sin{\\theta}& 0& ...& 0\\\\ -\\sin{\\theta}& \\cos{\\theta}& 0& ...& 0\\\\ 0& 0& 0& ...& 0 \\\\ ...& ...& ...& ...& ... \\\\ 0& 0& 0& ...& 0  \\end{pmatrix} $$\n",
    "$$G = \\begin{pmatrix} \\cos{\\theta}& \\sin{\\theta}& 0& ...& 0\\\\ -\\sin{\\theta}& \\cos{\\theta}& 0& ...& 0\\\\ 0& 0& 1& ...& 0 \\\\ ...& ...& ...& ...& ... \\\\ 0& 0& 0& ...& 1  \\end{pmatrix} $$"
   ]
  },
  {
   "cell_type": "markdown",
   "metadata": {},
   "source": [
    "2. Проверка ортогнальности и симметричности на бумаге. Отражение Хаусхолдера похоже на преобразование Гаусса тем, что они являются одноранговыми модификациями и могут быть использованы для обнуления выбранных компонент вектора."
   ]
  },
  {
   "cell_type": "code",
   "execution_count": 1,
   "metadata": {},
   "outputs": [],
   "source": [
    "import numpy as np\n",
    "import math as mt"
   ]
  },
  {
   "cell_type": "code",
   "execution_count": 127,
   "metadata": {},
   "outputs": [],
   "source": [
    "def QR_composition(A):\n",
    "    n = A.shape[0]\n",
    "    m = A.shape[1]\n",
    "    Q = np.eye(n)\n",
    "    B = A\n",
    "\n",
    "    for i in range(min(n,m)-1):\n",
    "        x = B[i:,i]\n",
    "        e = np.zeros(n-i)\n",
    "        e[0] = 1\n",
    "        alpha = np.linalg.norm(x)\n",
    "        u = x + np.sign(x[0])*alpha*e\n",
    "        v = u /np.linalg.norm(u)\n",
    "        Ii = np.eye(n-i)\n",
    "        Qi = Ii - 2*np.outer(v,v)\n",
    "        I = np.eye(n)\n",
    "        I[i:,i:] = Qi[0:,0:]\n",
    "        B = I @ A\n",
    "        Q = Q.T @ I.T\n",
    "        \n",
    "    R = Q.T @ A\n",
    "    return Q, R"
   ]
  },
  {
   "cell_type": "code",
   "execution_count": 161,
   "metadata": {},
   "outputs": [],
   "source": [
    "M = np.array([[12, -51, 4], [6, 167, -68], [-4, 24, -41]])"
   ]
  },
  {
   "cell_type": "code",
   "execution_count": 162,
   "metadata": {
    "scrolled": true
   },
   "outputs": [
    {
     "data": {
      "text/plain": [
       "array([[-0.85714286,  0.39428571,  0.33142857],\n",
       "       [-0.42857143, -0.90285714, -0.03428571],\n",
       "       [ 0.28571429, -0.17142857,  0.94285714]])"
      ]
     },
     "execution_count": 162,
     "metadata": {},
     "output_type": "execute_result"
    }
   ],
   "source": [
    "Q, R = QR_composition(M)\n",
    "Q"
   ]
  },
  {
   "cell_type": "markdown",
   "metadata": {},
   "source": [
    "Задача для QR-разложения: \n",
    "$$Ax=b$$\n",
    "$$QRx=b$$\n",
    "$$\\begin{cases} y = Q^T b\\\\ Rx = y   \\end{cases}$$"
   ]
  },
  {
   "cell_type": "code",
   "execution_count": 163,
   "metadata": {},
   "outputs": [],
   "source": [
    "def QR_solver(A,b):\n",
    "    def U_solver(U,b):\n",
    "        x = np.zeros(b.shape[0])\n",
    "        for j in range(b.shape[0]-1,-1,-1):\n",
    "            x[j] = b[j]\n",
    "            for i in range(b.shape[0]-1,j,-1):\n",
    "                x[j] = x[j] - (U[j,i])*x[i]\n",
    "            x[j] = x[j]/U[j,j]\n",
    "        return(x)    \n",
    "    \n",
    "    \n",
    "    Q, R = QR_composition(A)\n",
    "    y = Q.T @ b\n",
    "    x = U_solver(R,y)\n",
    "    \n",
    "    return x"
   ]
  },
  {
   "cell_type": "code",
   "execution_count": 164,
   "metadata": {},
   "outputs": [],
   "source": [
    "b = np.array([1, 2, 3])"
   ]
  },
  {
   "cell_type": "code",
   "execution_count": 165,
   "metadata": {},
   "outputs": [
    {
     "data": {
      "text/plain": [
       "array([ 0.00938776, -0.02432653, -0.08832653])"
      ]
     },
     "execution_count": 165,
     "metadata": {},
     "output_type": "execute_result"
    }
   ],
   "source": [
    "QR_solver(M,b)"
   ]
  },
  {
   "cell_type": "code",
   "execution_count": null,
   "metadata": {},
   "outputs": [],
   "source": []
  }
 ],
 "metadata": {
  "kernelspec": {
   "display_name": "Python 3",
   "language": "python",
   "name": "python3"
  },
  "language_info": {
   "codemirror_mode": {
    "name": "ipython",
    "version": 3
   },
   "file_extension": ".py",
   "mimetype": "text/x-python",
   "name": "python",
   "nbconvert_exporter": "python",
   "pygments_lexer": "ipython3",
   "version": "3.8.3"
  }
 },
 "nbformat": 4,
 "nbformat_minor": 4
}
